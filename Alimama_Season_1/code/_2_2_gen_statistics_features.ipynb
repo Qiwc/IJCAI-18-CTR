{
 "cells": [
  {
   "cell_type": "code",
   "execution_count": 1,
   "metadata": {},
   "outputs": [],
   "source": [
    "import os\n",
    "import pickle\n",
    "import gc\n",
    "import pandas as pd\n",
    "import numpy as np\n",
    "from tqdm import tqdm\n",
    "from utils import load_pickle, dump_pickle, raw_data_path, feature_data_path"
   ]
  },
  {
   "cell_type": "markdown",
   "metadata": {},
   "source": [
    "## 日点击量的统计特征\n",
    "\n",
    "因为日点击量的统计特征是属性的固有性质，就像一个item的价格不管哪天都是确定的，那点击量也是固定的\n",
    "\n",
    "所以直接使用24号前面的数据计算，去掉25号的采样干扰不会有影响"
   ]
  },
  {
   "cell_type": "code",
   "execution_count": 2,
   "metadata": {},
   "outputs": [],
   "source": [
    "def gen_feature_click_day_stats(data, feature):\n",
    "    '''生成分类属性日点击量的统计特征\n",
    "\n",
    "    '''\n",
    "\n",
    "    data = data.copy()[[feature, 'day']]\n",
    "    \n",
    "    # 去除测试采样的干扰\n",
    "    #data = data[data['day'] < 25]\n",
    "\n",
    "    feature_click_day = pd.DataFrame(data.groupby(['day', feature]).size(\n",
    "    )).reset_index().rename(columns={0: 'feature_click_day'})\n",
    "\n",
    "    feature_click_day_mean = pd.DataFrame(feature_click_day.groupby([feature])['feature_click_day'].mean(\n",
    "    )).rename(columns={'feature_click_day': feature + '_click_day_mean'}).reset_index()\n",
    "\n",
    "    feature_click_day_max = pd.DataFrame(feature_click_day.groupby([feature])['feature_click_day'].max(\n",
    "    )).rename(columns={'feature_click_day': feature + '_click_day_max'}).reset_index()\n",
    "\n",
    "    feature_click_day_min = pd.DataFrame(feature_click_day.groupby([feature])['feature_click_day'].min(\n",
    "    )).rename(columns={'feature_click_day': feature + '_click_day_min'}).reset_index()\n",
    "\n",
    "    # 每个类别只保留一条记录\n",
    "    data = data.drop(['day',], axis=1)\n",
    "    data = data.drop_duplicates([feature, ])\n",
    "    data = pd.merge(data, feature_click_day_mean, how='left', on=feature)\n",
    "    data = pd.merge(data, feature_click_day_max, how='left', on=feature)\n",
    "    data = pd.merge(data, feature_click_day_min, how='left', on=feature)\n",
    "\n",
    "    return data\n",
    "\n",
    "\n",
    "def gen_feature_click_stats(update=True):\n",
    "    \"\"\"生成各个分类属性日点击量的统计特征\n",
    "\n",
    "    file_name: (feature)_click_day_stats.pkl\n",
    "\n",
    "    example:\n",
    "        user_id_click_day_mean 该用户平均每天点击多少次\n",
    "        item_id_click_day_max 该物品单日最高销量\n",
    "\n",
    "    features:\n",
    "        'user_id_click_day_mean', 'user_id_click_day_max', 'user_id_click_day_min', \n",
    "        'item_id_click_day_mean', 'item_id_click_day_max', 'item_id_click_day_min',\n",
    "        'item_brand_id_click_day_mean', 'item_brand_id_click_day_max', 'item_brand_id_click_day_min', \n",
    "        'shop_id_click_day_mean', 'shop_id_click_day_max', 'shop_id_click_day_min',\n",
    "        'context_page_id_click_day_mean', 'context_page_id_click_day_max', 'context_page_id_click_day_min',\n",
    "        'category2_label_click_day_mean', 'category2_label_click_day_max', 'category2_label_click_day_min'\n",
    "        \n",
    "\n",
    "    \"\"\"\n",
    "\n",
    "    data = load_pickle(raw_data_path + 'all_data.pkl')\n",
    "\n",
    "    stats_feature = ['user_id', 'item_id', 'item_brand_id', 'shop_id']\n",
    "    \n",
    "    for feature in tqdm(stats_feature):\n",
    "        feature_path = feature_data_path + feature + '_click_day_stats.pkl'\n",
    "        if os.path.exists(feature_path) and update == False:\n",
    "            print('found ' + feature_path)\n",
    "        else:\n",
    "            print('generating ' + feature_path)\n",
    "            feature_stats = gen_feature_click_day_stats(data, feature)\n",
    "            print(feature_stats.columns)\n",
    "            dump_pickle(feature_stats, feature_path)\n",
    "            \n",
    "def add_feature_click_stats(data,):\n",
    "    \"\"\"添加分类属性日点击量的统计特征\n",
    "\n",
    "    join_key: ['feature_id',]\n",
    "\n",
    "    \"\"\"\n",
    "    \n",
    "    stats_feature = ['user_id', 'item_id', 'item_brand_id', 'shop_id']\n",
    "\n",
    "    for feature in tqdm(stats_feature):\n",
    "        feature_path = feature_data_path + feature + '_click_day_stats.pkl'\n",
    "        if not os.path.exists(feature_path):\n",
    "            gen_feature_click_stats()\n",
    "        feature_stats = load_pickle(feature_path)\n",
    "        data = pd.merge(data, feature_stats, 'left', [feature,])\n",
    "    \n",
    "    return data"
   ]
  },
  {
   "cell_type": "markdown",
   "metadata": {},
   "source": [
    "## 日转化量的统计特征"
   ]
  },
  {
   "cell_type": "markdown",
   "metadata": {},
   "source": [
    "## 测试"
   ]
  },
  {
   "cell_type": "code",
   "execution_count": 3,
   "metadata": {},
   "outputs": [
    {
     "name": "stderr",
     "output_type": "stream",
     "text": [
      "  0%|                                                                                            | 0/4 [00:00<?, ?it/s]\n",
      "  0%|                                                                                            | 0/4 [00:00<?, ?it/s]"
     ]
    },
    {
     "name": "stdout",
     "output_type": "stream",
     "text": [
      "generating ../features/user_id_click_day_stats.pkl\n",
      "Index(['user_id', 'user_id_click_day_mean', 'user_id_click_day_max',\n",
      "       'user_id_click_day_min'],\n",
      "      dtype='object')\n"
     ]
    },
    {
     "name": "stderr",
     "output_type": "stream",
     "text": [
      "\n",
      " 25%|█████████████████████                                                               | 1/4 [00:00<00:02,  1.20it/s]"
     ]
    },
    {
     "name": "stdout",
     "output_type": "stream",
     "text": [
      "generating ../features/item_id_click_day_stats.pkl\n",
      "Index(['item_id', 'item_id_click_day_mean', 'item_id_click_day_max',\n",
      "       'item_id_click_day_min'],\n",
      "      dtype='object')\n"
     ]
    },
    {
     "name": "stderr",
     "output_type": "stream",
     "text": [
      "\n",
      " 50%|██████████████████████████████████████████                                          | 2/4 [00:01<00:01,  1.93it/s]"
     ]
    },
    {
     "name": "stdout",
     "output_type": "stream",
     "text": [
      "generating ../features/item_brand_id_click_day_stats.pkl\n",
      "Index(['item_brand_id', 'item_brand_id_click_day_mean',\n",
      "       'item_brand_id_click_day_max', 'item_brand_id_click_day_min'],\n",
      "      dtype='object')\n"
     ]
    },
    {
     "name": "stderr",
     "output_type": "stream",
     "text": [
      "\n",
      " 75%|███████████████████████████████████████████████████████████████                     | 3/4 [00:01<00:00,  2.51it/s]"
     ]
    },
    {
     "name": "stdout",
     "output_type": "stream",
     "text": [
      "generating ../features/shop_id_click_day_stats.pkl\n",
      "Index(['shop_id', 'shop_id_click_day_mean', 'shop_id_click_day_max',\n",
      "       'shop_id_click_day_min'],\n",
      "      dtype='object')\n"
     ]
    },
    {
     "name": "stderr",
     "output_type": "stream",
     "text": [
      "\n",
      "100%|████████████████████████████████████████████████████████████████████████████████████| 4/4 [00:01<00:00,  2.86it/s]\n",
      "100%|████████████████████████████████████████████████████████████████████████████████████| 4/4 [00:02<00:00,  1.40it/s]\n"
     ]
    },
    {
     "name": "stdout",
     "output_type": "stream",
     "text": [
      "Index(['instance_id', 'item_id', 'item_category_list', 'item_property_list',\n",
      "       'item_brand_id', 'item_city_id', 'item_price_level', 'item_sales_level',\n",
      "       'item_collected_level', 'item_pv_level', 'user_id', 'user_gender_id',\n",
      "       'user_age_level', 'user_occupation_id', 'user_star_level', 'context_id',\n",
      "       'context_timestamp', 'context_page_id', 'predict_category_property',\n",
      "       'shop_id', 'shop_review_num_level', 'shop_review_positive_rate',\n",
      "       'shop_star_level', 'shop_score_service', 'shop_score_delivery',\n",
      "       'shop_score_description', 'is_trade', 'day', 'hour', 'minute',\n",
      "       'category2_label', 'item_property_list0', 'item_property_list1',\n",
      "       'item_property_list2', 'item_property_list3', 'item_property_list4',\n",
      "       'item_property_list5', 'item_property_list6', 'item_property_list7',\n",
      "       'user_id_click_day_mean', 'user_id_click_day_max',\n",
      "       'user_id_click_day_min', 'item_id_click_day_mean',\n",
      "       'item_id_click_day_max', 'item_id_click_day_min',\n",
      "       'item_brand_id_click_day_mean', 'item_brand_id_click_day_max',\n",
      "       'item_brand_id_click_day_min', 'shop_id_click_day_mean',\n",
      "       'shop_id_click_day_max', 'shop_id_click_day_min'],\n",
      "      dtype='object')\n"
     ]
    }
   ],
   "source": [
    "if __name__ =='__main__':\n",
    "    all_data = load_pickle(raw_data_path + 'all_data.pkl')\n",
    "    all_data = add_feature_click_stats(all_data)\n",
    "    print(all_data.columns)"
   ]
  },
  {
   "cell_type": "code",
   "execution_count": null,
   "metadata": {
    "collapsed": true
   },
   "outputs": [],
   "source": []
  }
 ],
 "metadata": {
  "kernelspec": {
   "display_name": "Python 3",
   "language": "python",
   "name": "python3"
  },
  "language_info": {
   "codemirror_mode": {
    "name": "ipython",
    "version": 3
   },
   "file_extension": ".py",
   "mimetype": "text/x-python",
   "name": "python",
   "nbconvert_exporter": "python",
   "pygments_lexer": "ipython3",
   "version": "3.6.5"
  }
 },
 "nbformat": 4,
 "nbformat_minor": 2
}
