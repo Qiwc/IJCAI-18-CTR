{
 "cells": [
  {
   "cell_type": "code",
   "execution_count": 1,
   "metadata": {},
   "outputs": [],
   "source": [
    "import os\n",
    "import pickle\n",
    "import pandas as pd\n",
    "import numpy as np\n",
    "import time\n",
    "from tqdm import tqdm\n",
    "from utils import raw_data_path, feature_data_path,result_path,cache_pkl_path,dump_pickle,load_pickle\n",
    "from smooth import BayesianSmoothing"
   ]
  },
  {
   "cell_type": "markdown",
   "metadata": {},
   "source": [
    "# 弃用"
   ]
  },
  {
   "cell_type": "code",
   "execution_count": 2,
   "metadata": {},
   "outputs": [],
   "source": [
    "from sklearn.feature_extraction.text import TfidfTransformer\n",
    "def gen_TfidfTransformer():\n",
    "    '''\n",
    "    分别groupby['shop_id'], ['item_id'], ['item_brand_id']\n",
    "    计算用户在['user_gender_id', 'user_age_level', 'user_occupation_id']几个属性下的点击量（one_hot）\n",
    "    \n",
    "    计算的是每天的\n",
    "\n",
    "    文件名：['shop_id', 'item_id', 'item_brand_id']_CountVector.pkl\n",
    "    '''\n",
    "\n",
    "    TF_IDF = TfidfTransformer('l2')\n",
    "\n",
    "    \n",
    "    all_data = load_pickle(raw_data_path+'all_data.pkl')    \n",
    "    for feature in tqdm(['shop_id', 'item_id', 'item_brand_id']):   \n",
    "        for one_hot_feature in (['user_gender_id', 'user_age_level', 'user_occupation_id', 'user_star_level']):\n",
    "            feature_path = feature_data_path+'TfidfTransformer'+'_'+feature+'_'+one_hot_feature+'.pkl' #要存放的目录\n",
    "            if os.path.exists(feature_path):\n",
    "                print('found ' + feature_path)\n",
    "            else:\n",
    "                print('generating ' + feature_path)  \n",
    "                data = all_data[[feature,one_hot_feature]]\n",
    "                data_hot = pd.get_dummies(data,prefix_sep='_tfid_'+feature+'_', dummy_na=True, columns=[one_hot_feature])\n",
    "                data_sum = data_hot.groupby([feature]).sum()\n",
    "                \n",
    "                vec_columns = data_sum.columns\n",
    "                local_tfidf_vec = TF_IDF.fit_transform(data_sum).toarray()\n",
    "                local_tfidf_vec = pd.DataFrame(local_tfidf_vec,columns=vec_columns,index=data_sum.index).reset_index()\n",
    "                dump_pickle(local_tfidf_vec,feature_path)  #存储\n",
    "                \n",
    "                \n",
    "def add_TfidfTransformer(all_data):\n",
    "    '''\n",
    "    向总体数据添加特征\n",
    "    feature=['item_id', 'item_brand_id', 'shop_id']\n",
    "    拼接键[feature, 'day']\n",
    "    '''\n",
    "    for feature in tqdm(['item_id', 'item_brand_id', 'shop_id']):  \n",
    "        for one_hot_feature in (['user_gender_id', 'user_age_level', 'user_occupation_id', 'user_star_level']):\n",
    "            feature_path = feature_data_path+'TfidfTransformer'+'_'+feature+'_'+one_hot_feature+'.pkl'\n",
    "            if not os.path.exists(feature_path):\n",
    "                gen_TfidfTransformer()\n",
    "            CountVector_data = load_pickle(feature_path)\n",
    "            all_data = pd.merge(all_data, CountVector_data, how='left', on=[feature])\n",
    "    return all_data    "
   ]
  },
  {
   "cell_type": "code",
   "execution_count": 3,
   "metadata": {},
   "outputs": [],
   "source": [
    "def gen_feature_user_property():\n",
    "    '''\n",
    "    分别groupby['shop_id'], ['item_id'], ['item_brand_id']\n",
    "    计算item在['user_gender_id', 'user_age_level', 'user_occupation_id']几个属性下的点击量\n",
    "    \n",
    "    文件名：feature_user_property_click.pkl\n",
    "    \n",
    "    features: \n",
    "        'shop_id_user_gender_id_click_rate',\n",
    "        'shop_id_user_age_level_click_rate',\n",
    "        'shop_id_user_occupation_id_click_rate',\n",
    "        'shop_id_user_star_level_click_rate',\n",
    "        'item_id_user_gender_id_click_rate',\n",
    "        'item_id_user_age_level_click_rate',\n",
    "        'item_id_user_occupation_id_click_rate',\n",
    "        'item_id_user_star_level_click_rate',\n",
    "        'item_brand_id_user_gender_id_click_rate',\n",
    "        'item_brand_id_user_age_level_click_rate',\n",
    "        'item_brand_id_user_occupation_id_click_rate',\n",
    "        'item_brand_id_user_star_level_click_rate'\n",
    "\n",
    "    '''\n",
    "\n",
    "    all_data = load_pickle(raw_data_path+'all_data.pkl')\n",
    "    for feature in tqdm(['shop_id', 'item_id', 'item_brand_id', 'item_price_level']):\n",
    "        for user_property in (['user_gender_id', 'user_age_level', 'user_occupation_id', 'user_star_level']):\n",
    "\n",
    "            feature_path = feature_data_path + feature + \\\n",
    "                '_' + user_property + '_click.pkl'  # 要存放的目录\n",
    "            if os.path.exists(feature_path):\n",
    "                print('found ' + feature_path)\n",
    "            else:\n",
    "                print('generating ' + feature_path)\n",
    "\n",
    "                feature_user_property_click_feat = feature + '_' + user_property + '_click'\n",
    "                feature_click_feat = feature + '_click'\n",
    "                feature_user_property_click_rate_feat = feature + \\\n",
    "                    '_' + user_property + '_click_rate'\n",
    "\n",
    "                data = all_data[[feature, user_property]]\n",
    "                feature_user_property_click = data.groupby([feature, user_property]).size(\n",
    "                ).reset_index().rename(columns={0: feature_user_property_click_feat})\n",
    "                feature_click = data.groupby([feature]).size(\n",
    "                ).reset_index().rename(columns={0: feature_click_feat})\n",
    "\n",
    "                feature_user_property_click_rate = pd.merge(\n",
    "                    feature_click, feature_user_property_click, how='inner', on=[feature])\n",
    "                \n",
    "                \n",
    "#                 考虑添加平滑\n",
    "                feature_user_property_click_rate[feature_user_property_click_rate_feat] = feature_user_property_click_rate[\n",
    "                    feature_user_property_click_feat] / feature_user_property_click_rate[feature_click_feat]\n",
    "                \n",
    "                feature_user_property_click_rate = feature_user_property_click_rate[[feature, user_property, feature_user_property_click_rate_feat]]\n",
    "                \n",
    "                \n",
    "#                 sorted_data = feature_user_property_click_rate.sort_values(by=[feature], ascending=True)\n",
    "#                 print(sorted_data.head())\n",
    "                \n",
    "                dump_pickle(feature_user_property_click_rate, feature_path)\n",
    "\n",
    "\n",
    "def add_feature_user_property(all_data):\n",
    "    '''\n",
    "\n",
    "    '''\n",
    "    for feature in tqdm(['shop_id', 'item_id', 'item_brand_id', 'item_price_level']):\n",
    "        for user_property in (['user_gender_id', 'user_age_level', 'user_occupation_id', 'user_star_level']):\n",
    "            feature_path = feature_data_path + feature + '_' + user_property + '_click.pkl'  # 要存放的目录\n",
    "            if not os.path.exists(feature_path):\n",
    "                gen_feature_user_property()\n",
    "            else:\n",
    "                feature_user_property_click_rate = load_pickle(feature_path)\n",
    "                all_data = pd.merge(all_data, feature_user_property_click_rate, 'left', [feature, user_property])\n",
    "        \n",
    "    return all_data"
   ]
  },
  {
   "cell_type": "code",
   "execution_count": 4,
   "metadata": {},
   "outputs": [
    {
     "name": "stderr",
     "output_type": "stream",
     "text": [
      "  0%|                                                                                            | 0/4 [00:00<?, ?it/s]\n",
      "  0%|                                                                                            | 0/4 [00:00<?, ?it/s]"
     ]
    },
    {
     "name": "stdout",
     "output_type": "stream",
     "text": [
      "generating ../features/shop_id_user_gender_id_click.pkl\n",
      "generating ../features/shop_id_user_age_level_click.pkl\n",
      "generating ../features/shop_id_user_occupation_id_click.pkl\n",
      "generating ../features/shop_id_user_star_level_click.pkl\n"
     ]
    },
    {
     "name": "stderr",
     "output_type": "stream",
     "text": [
      "\n",
      " 25%|█████████████████████                                                               | 1/4 [00:00<00:01,  1.88it/s]"
     ]
    },
    {
     "name": "stdout",
     "output_type": "stream",
     "text": [
      "generating ../features/item_id_user_gender_id_click.pkl\n",
      "generating ../features/item_id_user_age_level_click.pkl\n",
      "generating ../features/item_id_user_occupation_id_click.pkl\n",
      "generating ../features/item_id_user_star_level_click.pkl\n"
     ]
    },
    {
     "name": "stderr",
     "output_type": "stream",
     "text": [
      "\n",
      " 50%|██████████████████████████████████████████                                          | 2/4 [00:00<00:00,  2.19it/s]"
     ]
    },
    {
     "name": "stdout",
     "output_type": "stream",
     "text": [
      "generating ../features/item_brand_id_user_gender_id_click.pkl\n",
      "generating ../features/item_brand_id_user_age_level_click.pkl\n",
      "generating ../features/item_brand_id_user_occupation_id_click.pkl\n",
      "generating ../features/item_brand_id_user_star_level_click.pkl\n"
     ]
    },
    {
     "name": "stderr",
     "output_type": "stream",
     "text": [
      "\n",
      " 75%|███████████████████████████████████████████████████████████████                     | 3/4 [00:01<00:00,  2.38it/s]"
     ]
    },
    {
     "name": "stdout",
     "output_type": "stream",
     "text": [
      "generating ../features/item_price_level_user_gender_id_click.pkl\n",
      "generating ../features/item_price_level_user_age_level_click.pkl\n",
      "generating ../features/item_price_level_user_occupation_id_click.pkl\n",
      "generating ../features/item_price_level_user_star_level_click.pkl\n"
     ]
    },
    {
     "name": "stderr",
     "output_type": "stream",
     "text": [
      "\n",
      "100%|████████████████████████████████████████████████████████████████████████████████████| 4/4 [00:01<00:00,  2.62it/s]\n",
      "100%|████████████████████████████████████████████████████████████████████████████████████| 4/4 [00:06<00:00,  1.51s/it]\n"
     ]
    },
    {
     "name": "stdout",
     "output_type": "stream",
     "text": [
      "Index(['instance_id', 'item_id', 'item_category_list', 'item_property_list',\n",
      "       'item_brand_id', 'item_city_id', 'item_price_level', 'item_sales_level',\n",
      "       'item_collected_level', 'item_pv_level', 'user_id', 'user_gender_id',\n",
      "       'user_age_level', 'user_occupation_id', 'user_star_level', 'context_id',\n",
      "       'context_timestamp', 'context_page_id', 'predict_category_property',\n",
      "       'shop_id', 'shop_review_num_level', 'shop_review_positive_rate',\n",
      "       'shop_star_level', 'shop_score_service', 'shop_score_delivery',\n",
      "       'shop_score_description', 'is_trade', 'day', 'hour', 'minute',\n",
      "       'category2_label', 'item_property_list0', 'item_property_list1',\n",
      "       'item_property_list2', 'item_property_list3', 'item_property_list4',\n",
      "       'item_property_list5', 'item_property_list6', 'item_property_list7',\n",
      "       'shop_id_user_age_level_click_rate',\n",
      "       'shop_id_user_occupation_id_click_rate',\n",
      "       'shop_id_user_star_level_click_rate',\n",
      "       'item_id_user_gender_id_click_rate',\n",
      "       'item_id_user_age_level_click_rate',\n",
      "       'item_id_user_occupation_id_click_rate',\n",
      "       'item_id_user_star_level_click_rate',\n",
      "       'item_brand_id_user_gender_id_click_rate',\n",
      "       'item_brand_id_user_age_level_click_rate',\n",
      "       'item_brand_id_user_occupation_id_click_rate',\n",
      "       'item_brand_id_user_star_level_click_rate',\n",
      "       'item_price_level_user_gender_id_click_rate',\n",
      "       'item_price_level_user_age_level_click_rate',\n",
      "       'item_price_level_user_occupation_id_click_rate',\n",
      "       'item_price_level_user_star_level_click_rate'],\n",
      "      dtype='object')\n"
     ]
    }
   ],
   "source": [
    "if __name__ =='__main__':\n",
    "    all_data = load_pickle(raw_data_path+'all_data.pkl')\n",
    "    all_data = add_feature_user_property(all_data)\n",
    "    print(all_data.columns)  "
   ]
  },
  {
   "cell_type": "code",
   "execution_count": null,
   "metadata": {
    "collapsed": true
   },
   "outputs": [],
   "source": []
  }
 ],
 "metadata": {
  "kernelspec": {
   "display_name": "Python 3",
   "language": "python",
   "name": "python3"
  },
  "language_info": {
   "codemirror_mode": {
    "name": "ipython",
    "version": 3
   },
   "file_extension": ".py",
   "mimetype": "text/x-python",
   "name": "python",
   "nbconvert_exporter": "python",
   "pygments_lexer": "ipython3",
   "version": "3.6.4"
  }
 },
 "nbformat": 4,
 "nbformat_minor": 2
}
