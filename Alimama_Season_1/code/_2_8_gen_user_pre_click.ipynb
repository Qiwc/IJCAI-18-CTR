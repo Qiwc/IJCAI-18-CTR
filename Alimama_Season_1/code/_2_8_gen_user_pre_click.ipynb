{
 "cells": [
  {
   "cell_type": "code",
   "execution_count": 7,
   "metadata": {},
   "outputs": [],
   "source": [
    "import os\n",
    "import pickle\n",
    "import gc\n",
    "import pandas as pd\n",
    "import numpy as np\n",
    "from tqdm import tqdm\n",
    "from utils import load_pickle, dump_pickle, raw_data_path, feature_data_path"
   ]
  },
  {
   "cell_type": "code",
   "execution_count": 8,
   "metadata": {},
   "outputs": [],
   "source": [
    "pre_user_id = None\n",
    "pre_feature = None\n",
    "continue_cnt = 0 \n",
    "\n",
    "def get_user_feature_pre_click(row, feature):\n",
    "    \n",
    "    global pre_user_id\n",
    "    global pre_feature\n",
    "    global continue_cnt\n",
    "    \n",
    "    if row['user_id'] == pre_user_id: \n",
    "        if row[feature] == pre_feature:\n",
    "            # 该用户当前点击与上次一样的feature\n",
    "            continue_cnt += 1\n",
    "            return 1\n",
    "        else:\n",
    "            # 记录用户当前点击的物品\n",
    "            pre_feature = row[feature]\n",
    "            return 0\n",
    "    \n",
    "    else:\n",
    "        # 上一个用户已经计算完成\n",
    "        pre_user_id = row['user_id']\n",
    "        pre_feature = row[feature]\n",
    "        return 0\n",
    "    \n",
    "def get_user_feature_continue_click(row, feature):\n",
    "    \n",
    "    global pre_user_id\n",
    "    global pre_feature\n",
    "    global continue_cnt\n",
    "    \n",
    "    if row['user_id'] == pre_user_id: \n",
    "        if row[feature] == pre_feature:\n",
    "            # 该用户当前点击与上次一样的feature\n",
    "            continue_cnt += 1\n",
    "            return continue_cnt\n",
    "        else:\n",
    "            # 记录用户当前点击的物品\n",
    "            pre_feature = row[feature]\n",
    "            continue_cnt = 1\n",
    "            return continue_cnt\n",
    "    \n",
    "    else:\n",
    "        # 上一个用户已经计算完成\n",
    "        pre_user_id = row['user_id']\n",
    "        pre_feature = row[feature]\n",
    "        continue_cnt = 1\n",
    "        return continue_cnt\n",
    "\n",
    "\n",
    "def gen_user_feature_pre_click(update=True):\n",
    "    '''用户当前点击与上次一样的feature\n",
    "\n",
    "    file_name: user_feature_pre_click.pkl\n",
    "\n",
    "    features:\n",
    "        'user_item_id_pre_click', 'user_item_brand_id_pre_click',\n",
    "        'user_shop_id_pre_click', 'user_category2_label_pre_click',\n",
    "\n",
    "    '''\n",
    "\n",
    "    all_data = load_pickle(raw_data_path + 'all_data.pkl')\n",
    "\n",
    "    feature_list = ['item_id', 'item_brand_id', 'shop_id', 'category2_label',]\n",
    "\n",
    "    for feature in tqdm(feature_list):\n",
    "\n",
    "        feature_path = feature_data_path + 'user_'+feature+'_pre_click.pkl'\n",
    "\n",
    "        if os.path.exists(feature_path) and update == False:\n",
    "            print('found '+feature_path)\n",
    "        else:\n",
    "            print('generating '+feature_path)\n",
    "\n",
    "            pre_click_feature_name = 'user_' + feature + '_pre_click'\n",
    "            continue_click_feature_name = 'user_' + feature + '_continue_click'\n",
    "            \n",
    "\n",
    "            # 用户点击时间戳排序\n",
    "            sorted_data = all_data.sort_values(\n",
    "                by=['user_id', 'context_timestamp'], ascending=True)[['user_id', feature, 'context_timestamp']]\n",
    "            \n",
    "            sorted_data[pre_click_feature_name] = sorted_data.apply(lambda row: get_user_feature_pre_click(row, feature), axis=1)\n",
    "            sorted_data[continue_click_feature_name] = sorted_data.apply(lambda row: get_user_feature_continue_click(row, feature), axis=1)\n",
    "            \n",
    "            sorted_data = sorted_data[[pre_click_feature_name, continue_click_feature_name]]\n",
    "            \n",
    "            dump_pickle(sorted_data, feature_path)\n",
    "\n",
    "\n",
    "def add_user_feature_pre_click(data):\n",
    "\n",
    "\n",
    "    feature_list = ['item_id', 'item_brand_id', 'shop_id', 'category2_label',]\n",
    "\n",
    "    for feature in tqdm(feature_list):\n",
    "        feature_path = feature_data_path + 'user_'+feature+'_pre_click.pkl'\n",
    "        if not os.path.exists(feature_path):\n",
    "            gen_user_feature_pre_click()\n",
    "        user_feature_pre_click = load_pickle(feature_path)\n",
    "        data = data.join(user_feature_pre_click)\n",
    "\n",
    "    return data\n"
   ]
  },
  {
   "cell_type": "markdown",
   "metadata": {},
   "source": [
    "# user click interval"
   ]
  },
  {
   "cell_type": "code",
   "execution_count": 9,
   "metadata": {
    "scrolled": false
   },
   "outputs": [
    {
     "name": "stderr",
     "output_type": "stream",
     "text": [
      "\r",
      "  0%|                                                                                            | 0/4 [00:00<?, ?it/s]"
     ]
    },
    {
     "name": "stdout",
     "output_type": "stream",
     "text": [
      "generating ../features/user_item_id_pre_click.pkl\n"
     ]
    },
    {
     "name": "stderr",
     "output_type": "stream",
     "text": [
      "\r",
      " 25%|█████████████████████                                                               | 1/4 [00:23<01:11, 23.67s/it]"
     ]
    },
    {
     "name": "stdout",
     "output_type": "stream",
     "text": [
      "generating ../features/user_item_brand_id_pre_click.pkl\n"
     ]
    },
    {
     "name": "stderr",
     "output_type": "stream",
     "text": [
      "\r",
      " 50%|██████████████████████████████████████████                                          | 2/4 [00:46<00:46, 23.43s/it]"
     ]
    },
    {
     "name": "stdout",
     "output_type": "stream",
     "text": [
      "generating ../features/user_shop_id_pre_click.pkl\n"
     ]
    },
    {
     "name": "stderr",
     "output_type": "stream",
     "text": [
      "\r",
      " 75%|███████████████████████████████████████████████████████████████                     | 3/4 [01:09<00:23, 23.33s/it]"
     ]
    },
    {
     "name": "stdout",
     "output_type": "stream",
     "text": [
      "generating ../features/user_category2_label_pre_click.pkl\n"
     ]
    },
    {
     "name": "stderr",
     "output_type": "stream",
     "text": [
      "100%|████████████████████████████████████████████████████████████████████████████████████| 4/4 [01:31<00:00, 22.79s/it]\n",
      "100%|████████████████████████████████████████████████████████████████████████████████████| 4/4 [00:00<00:00,  7.03it/s]\n"
     ]
    }
   ],
   "source": [
    "if __name__ =='__main__':\n",
    "    all_data = load_pickle(raw_data_path + 'all_data.pkl')\n",
    "    gen_user_feature_pre_click()\n",
    "    all_data = add_user_feature_pre_click(all_data)"
   ]
  },
  {
   "cell_type": "code",
   "execution_count": 6,
   "metadata": {},
   "outputs": [
    {
     "data": {
      "text/html": [
       "<div>\n",
       "<style scoped>\n",
       "    .dataframe tbody tr th:only-of-type {\n",
       "        vertical-align: middle;\n",
       "    }\n",
       "\n",
       "    .dataframe tbody tr th {\n",
       "        vertical-align: top;\n",
       "    }\n",
       "\n",
       "    .dataframe thead th {\n",
       "        text-align: right;\n",
       "    }\n",
       "</style>\n",
       "<table border=\"1\" class=\"dataframe\">\n",
       "  <thead>\n",
       "    <tr style=\"text-align: right;\">\n",
       "      <th></th>\n",
       "      <th>user_id</th>\n",
       "      <th>item_id</th>\n",
       "      <th>shop_id</th>\n",
       "      <th>category2_label</th>\n",
       "      <th>context_timestamp</th>\n",
       "      <th>user_item_id_pre_click</th>\n",
       "      <th>user_shop_id_pre_click</th>\n",
       "    </tr>\n",
       "  </thead>\n",
       "  <tbody>\n",
       "    <tr>\n",
       "      <th>59830</th>\n",
       "      <td>10452258869178394</td>\n",
       "      <td>6677310098456620917</td>\n",
       "      <td>1075328862710772224</td>\n",
       "      <td>7</td>\n",
       "      <td>1537258651</td>\n",
       "      <td>0</td>\n",
       "      <td>0</td>\n",
       "    </tr>\n",
       "    <tr>\n",
       "      <th>13444</th>\n",
       "      <td>10452258869178394</td>\n",
       "      <td>7905777711208821810</td>\n",
       "      <td>4215742678121737516</td>\n",
       "      <td>10</td>\n",
       "      <td>1537258715</td>\n",
       "      <td>0</td>\n",
       "      <td>0</td>\n",
       "    </tr>\n",
       "    <tr>\n",
       "      <th>4887</th>\n",
       "      <td>10452258869178394</td>\n",
       "      <td>6625137068692942664</td>\n",
       "      <td>8953967780295706657</td>\n",
       "      <td>7</td>\n",
       "      <td>1537258878</td>\n",
       "      <td>0</td>\n",
       "      <td>0</td>\n",
       "    </tr>\n",
       "    <tr>\n",
       "      <th>5228</th>\n",
       "      <td>10452258869178394</td>\n",
       "      <td>6625137068692942664</td>\n",
       "      <td>8953967780295706657</td>\n",
       "      <td>7</td>\n",
       "      <td>1537258921</td>\n",
       "      <td>1</td>\n",
       "      <td>1</td>\n",
       "    </tr>\n",
       "  </tbody>\n",
       "</table>\n",
       "</div>"
      ],
      "text/plain": [
       "                 user_id              item_id              shop_id  \\\n",
       "59830  10452258869178394  6677310098456620917  1075328862710772224   \n",
       "13444  10452258869178394  7905777711208821810  4215742678121737516   \n",
       "4887   10452258869178394  6625137068692942664  8953967780295706657   \n",
       "5228   10452258869178394  6625137068692942664  8953967780295706657   \n",
       "\n",
       "       category2_label  context_timestamp  user_item_id_pre_click  \\\n",
       "59830                7         1537258651                       0   \n",
       "13444               10         1537258715                       0   \n",
       "4887                 7         1537258878                       0   \n",
       "5228                 7         1537258921                       1   \n",
       "\n",
       "       user_shop_id_pre_click  \n",
       "59830                       0  \n",
       "13444                       0  \n",
       "4887                        0  \n",
       "5228                        1  "
      ]
     },
     "execution_count": 6,
     "metadata": {},
     "output_type": "execute_result"
    }
   ],
   "source": [
    "sorted_data = all_data.sort_values(by=['user_id', 'context_timestamp'], ascending=True)[\n",
    "    ['user_id', 'item_id', 'shop_id', 'category2_label',  'context_timestamp', 'user_item_id_pre_click', 'user_shop_id_pre_click']]\n",
    "# sorted_data[sorted_data['user_item_id_pre_click'] == 1]\n",
    "sorted_data[sorted_data['user_id'] == 10452258869178394]"
   ]
  },
  {
   "cell_type": "code",
   "execution_count": null,
   "metadata": {
    "collapsed": true
   },
   "outputs": [],
   "source": []
  }
 ],
 "metadata": {
  "kernelspec": {
   "display_name": "Python 3",
   "language": "python",
   "name": "python3"
  },
  "language_info": {
   "codemirror_mode": {
    "name": "ipython",
    "version": 3
   },
   "file_extension": ".py",
   "mimetype": "text/x-python",
   "name": "python",
   "nbconvert_exporter": "python",
   "pygments_lexer": "ipython3",
   "version": "3.6.4"
  }
 },
 "nbformat": 4,
 "nbformat_minor": 2
}
