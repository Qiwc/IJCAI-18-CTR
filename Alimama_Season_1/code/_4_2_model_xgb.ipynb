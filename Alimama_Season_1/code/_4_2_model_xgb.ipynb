{
 "cells": [
  {
   "cell_type": "code",
   "execution_count": 68,
   "metadata": {
    "collapsed": true
   },
   "outputs": [],
   "source": [
    "import os\n",
    "import zipfile\n",
    "import time\n",
    "import pickle\n",
    "import gc\n",
    "\n",
    "import pandas as pd\n",
    "import numpy as np\n",
    "from tqdm import tqdm\n",
    "\n",
    "from utils import load_pickle, dump_pickle, get_feature_value, feature_spearmanr, feature_target_spearmanr, addCrossFeature, calibration\n",
    "from utils import raw_data_path, feature_data_path, cache_pkl_path, analyse"
   ]
  },
  {
   "cell_type": "code",
   "execution_count": 94,
   "metadata": {},
   "outputs": [
    {
     "data": {
      "text/plain": [
       "191"
      ]
     },
     "execution_count": 94,
     "metadata": {},
     "output_type": "execute_result"
    }
   ],
   "source": [
    "all_data_path = feature_data_path + 'all_data_all_features.pkl'\n",
    "all_data = load_pickle(all_data_path)\n",
    "\n",
    "# all_data.drop(['user_click_rank_day', 'user_first_click_day', 'user_last_click_day'], axis=1, inplace=True)\n",
    "# all_data.drop(['user_click_interval_first_day', 'user_click_interval_last_day'], axis=1, inplace=True)\n",
    "# all_data.drop(['user_click_global','item_id_user_click_global', 'item_id_user_prob_global','item_brand_id_user_click_global', 'item_brand_id_user_prob_global','shop_id_user_click_global', 'shop_id_user_prob_global'], axis=1, inplace=True)\n",
    "\n",
    "train_data = all_data[(all_data.day >= 18) & (all_data.day <= 23)]\n",
    "test_data = all_data[all_data.day == 24]\n",
    "\n",
    "features = list(all_data.columns)\n",
    "features.remove('is_trade')\n",
    "features.remove('instance_id')\n",
    "target = ['is_trade']\n",
    "len(features)"
   ]
  },
  {
   "cell_type": "code",
   "execution_count": 97,
   "metadata": {},
   "outputs": [
    {
     "name": "stdout",
     "output_type": "stream",
     "text": [
      "[0]\ttrain-logloss:0.605199\tval-logloss:0.604895\n",
      "Multiple eval metrics have been passed: 'val-logloss' will be used for early stopping.\n",
      "\n",
      "Will train until val-logloss hasn't improved in 30 rounds.\n",
      "[10]\ttrain-logloss:0.220631\tval-logloss:0.217164\n",
      "[20]\ttrain-logloss:0.12432\tval-logloss:0.118514\n",
      "[30]\ttrain-logloss:0.097627\tval-logloss:0.090598\n",
      "[40]\ttrain-logloss:0.090596\tval-logloss:0.083176\n",
      "[50]\ttrain-logloss:0.088494\tval-logloss:0.081072\n",
      "[60]\ttrain-logloss:0.087572\tval-logloss:0.08029\n",
      "[70]\ttrain-logloss:0.087\tval-logloss:0.079882\n",
      "[80]\ttrain-logloss:0.086559\tval-logloss:0.079576\n",
      "[90]\ttrain-logloss:0.086222\tval-logloss:0.079391\n",
      "[100]\ttrain-logloss:0.085923\tval-logloss:0.079192\n",
      "[110]\ttrain-logloss:0.08569\tval-logloss:0.079086\n",
      "[120]\ttrain-logloss:0.085456\tval-logloss:0.079014\n",
      "[130]\ttrain-logloss:0.085258\tval-logloss:0.078959\n",
      "[140]\ttrain-logloss:0.085045\tval-logloss:0.078904\n",
      "[150]\ttrain-logloss:0.084879\tval-logloss:0.078874\n",
      "[160]\ttrain-logloss:0.084716\tval-logloss:0.07885\n",
      "[170]\ttrain-logloss:0.084565\tval-logloss:0.078838\n",
      "[180]\ttrain-logloss:0.084419\tval-logloss:0.07882\n",
      "[190]\ttrain-logloss:0.084286\tval-logloss:0.078826\n",
      "[200]\ttrain-logloss:0.084146\tval-logloss:0.078815\n",
      "[210]\ttrain-logloss:0.084011\tval-logloss:0.078806\n",
      "[220]\ttrain-logloss:0.083889\tval-logloss:0.078775\n",
      "[230]\ttrain-logloss:0.083776\tval-logloss:0.078749\n",
      "[240]\ttrain-logloss:0.083635\tval-logloss:0.078764\n",
      "[250]\ttrain-logloss:0.083539\tval-logloss:0.078776\n",
      "[260]\ttrain-logloss:0.083423\tval-logloss:0.07882\n",
      "Stopping. Best iteration:\n",
      "[230]\ttrain-logloss:0.083776\tval-logloss:0.078749\n",
      "\n"
     ]
    }
   ],
   "source": [
    "from sklearn.metrics import log_loss\n",
    "import xgboost as xgb\n",
    "\n",
    "dtrain = xgb.DMatrix(train_data[features], train_data[target])\n",
    "dtest = xgb.DMatrix(test_data[features], test_data[target])\n",
    "\n",
    "watchlist = [(dtrain, 'train'), (dtest, 'val')]\n",
    "# watchlist = [(dtrain, 'train')]\n",
    "\n",
    "\n",
    "params = {\n",
    "    'n_estimators': 100,\n",
    "    'max_depth': 3,\n",
    "    'eta': 0.1,\n",
    "    'eval_metric': 'logloss',\n",
    "    'objective': 'binary:logistic',\n",
    "    'subsample': 1.0,\n",
    "    'colsample_bytree': 0.7,\n",
    "#     'random_state': 1123,\n",
    "#     'min_child_weight': 10\n",
    "    #'scale_pos_weight':0.5\n",
    "}\n",
    "\n",
    "xgb_a = xgb.train(params, dtrain,\n",
    "                  num_boost_round=500,\n",
    "                  early_stopping_rounds=30,\n",
    "                  evals=watchlist,\n",
    "                  verbose_eval=10)\n",
    "\n",
    "# loss_train = log_loss(train_data[target], lgb_clf.predict_proba(train_data[features]))\n",
    "# loss_test = log_loss(test_data[target], lgb_clf.predict_proba(test_data[features]))\n",
    "# loss_train, loss_test\n",
    "\n",
    "\n",
    "xgb_a_ans = xgb_a.predict(dtest)"
   ]
  },
  {
   "cell_type": "code",
   "execution_count": 98,
   "metadata": {},
   "outputs": [
    {
     "data": {
      "text/plain": [
       "0.078819903717876796"
      ]
     },
     "execution_count": 98,
     "metadata": {},
     "output_type": "execute_result"
    }
   ],
   "source": [
    "# from sklearn.metrics import log_loss\n",
    "xgb_predict = xgb_a.predict(dtest)\n",
    "\n",
    "loss_test = log_loss(test_data[target], xgb_predict)\n",
    "loss_test"
   ]
  },
  {
   "cell_type": "code",
   "execution_count": 72,
   "metadata": {},
   "outputs": [
    {
     "name": "stderr",
     "output_type": "stream",
     "text": [
      "/home/user02/miniconda3/envs/gluon/lib/python3.6/site-packages/lightgbm/basic.py:1038: UserWarning: categorical_feature in Dataset is overrided. New categorical_feature is ['user_gender_id', 'user_occupation_id']\n",
      "  warnings.warn('categorical_feature in Dataset is overrided. New categorical_feature is {}'.format(sorted(list(categorical_feature))))\n"
     ]
    },
    {
     "data": {
      "text/plain": [
       "(0.083928481388601525, 0.078793599286662588)"
      ]
     },
     "execution_count": 72,
     "metadata": {},
     "output_type": "execute_result"
    }
   ],
   "source": [
    "from sklearn.metrics import log_loss\n",
    "from lightgbm import LGBMClassifier\n",
    "import lightgbm as lgb\n",
    "\n",
    "lgb_clf = LGBMClassifier(n_estimators=200, max_depth=3, \n",
    "#                         num_leaves=50, \n",
    "#                        learning_rate=0.1, \n",
    "#                        seed=0, nthread=24, subsample=0.8, colsample_bytree=0.9, reg_lambda=0.005, \n",
    "                      )\n",
    "\n",
    "cate_features = ['user_gender_id', 'user_occupation_id']\n",
    "\n",
    "lgb_clf.fit(train_data[features], train_data['is_trade'],\n",
    "          #         eval_set=[(train_x.loc[train_x.clickDay>25,feature_group_A],train_x.loc[train_x.clickDay>25,['label']])],\n",
    "          feature_name=features,\n",
    "          categorical_feature=cate_features,\n",
    "          verbose=50,\n",
    "          )\n",
    "\n",
    "loss_train = log_loss(train_data[target], lgb_clf.predict_proba(train_data[features]))\n",
    "loss_test = log_loss(test_data[target], lgb_clf.predict_proba(test_data[features]))\n",
    "\n",
    "loss_train, loss_test"
   ]
  },
  {
   "cell_type": "code",
   "execution_count": 83,
   "metadata": {},
   "outputs": [
    {
     "data": {
      "text/plain": [
       "0.078717285963032763"
      ]
     },
     "execution_count": 83,
     "metadata": {},
     "output_type": "execute_result"
    }
   ],
   "source": [
    "# from sklearn.metrics import log_loss\n",
    "lgb_predict_a = lgb_clf.predict_proba(test_data[features])[:, 1]\n",
    "# lgb_predict_b = lgb_clf_b.predict_proba(test_data[features])[:, 1]\n",
    "xgb_predict = xgb_a.predict(dtest)\n",
    "\n",
    "# result = lgb_predict * 0.5 + xgb_predict * 0.5\n",
    "\n",
    "avg_predict = lgb_predict_a * 0.5 + xgb_predict * 0.5\n",
    "\n",
    "loss_test = log_loss(test_data[target], avg_predict)\n",
    "loss_test\n"
   ]
  },
  {
   "cell_type": "code",
   "execution_count": 100,
   "metadata": {},
   "outputs": [
    {
     "name": "stdout",
     "output_type": "stream",
     "text": [
      "[0]\ttrain-logloss:0.605106\n",
      "Will train until train-logloss hasn't improved in 20 rounds.\n",
      "[10]\ttrain-logloss:0.220046\n",
      "[20]\ttrain-logloss:0.12351\n",
      "[30]\ttrain-logloss:0.09672\n",
      "[40]\ttrain-logloss:0.089652\n",
      "[50]\ttrain-logloss:0.087607\n",
      "[60]\ttrain-logloss:0.086726\n",
      "[70]\ttrain-logloss:0.086145\n",
      "[80]\ttrain-logloss:0.085728\n",
      "[90]\ttrain-logloss:0.085389\n",
      "[100]\ttrain-logloss:0.085101\n",
      "[110]\ttrain-logloss:0.084864\n",
      "[120]\ttrain-logloss:0.084657\n",
      "[130]\ttrain-logloss:0.084481\n",
      "[140]\ttrain-logloss:0.084296\n",
      "[150]\ttrain-logloss:0.08413\n",
      "[160]\ttrain-logloss:0.083979\n",
      "[170]\ttrain-logloss:0.083833\n",
      "[180]\ttrain-logloss:0.083706\n",
      "[190]\ttrain-logloss:0.08358\n",
      "[200]\ttrain-logloss:0.083461\n",
      "[210]\ttrain-logloss:0.083364\n",
      "[220]\ttrain-logloss:0.083236\n",
      "[230]\ttrain-logloss:0.083117\n",
      "[240]\ttrain-logloss:0.082988\n",
      "[249]\ttrain-logloss:0.082905\n"
     ]
    },
    {
     "name": "stderr",
     "output_type": "stream",
     "text": [
      "/home/user02/miniconda3/envs/gluon/lib/python3.6/site-packages/lightgbm/basic.py:1038: UserWarning: categorical_feature in Dataset is overrided. New categorical_feature is ['user_gender_id', 'user_occupation_id']\n",
      "  warnings.warn('categorical_feature in Dataset is overrided. New categorical_feature is {}'.format(sorted(list(categorical_feature))))\n",
      "Exception ignored in: <bound method DMatrix.__del__ of <xgboost.core.DMatrix object at 0x7f6dcafdb898>>\n",
      "Traceback (most recent call last):\n",
      "  File \"/home/user02/miniconda3/envs/gluon/lib/python3.6/site-packages/xgboost/core.py\", line 368, in __del__\n",
      "    if self.handle is not None:\n",
      "AttributeError: 'DMatrix' object has no attribute 'handle'\n",
      "/home/user02/miniconda3/envs/gluon/lib/python3.6/site-packages/ipykernel_launcher.py:49: SettingWithCopyWarning: \n",
      "A value is trying to be set on a copy of a slice from a DataFrame.\n",
      "Try using .loc[row_indexer,col_indexer] = value instead\n",
      "\n",
      "See the caveats in the documentation: http://pandas.pydata.org/pandas-docs/stable/indexing.html#indexing-view-versus-copy\n"
     ]
    },
    {
     "data": {
      "text/plain": [
       "0.082981004116996937"
      ]
     },
     "execution_count": 100,
     "metadata": {},
     "output_type": "execute_result"
    }
   ],
   "source": [
    "train_data = all_data[(all_data.day >= 18) & (all_data.day <= 24)]\n",
    "test_data = all_data[all_data.day == 25]\n",
    "\n",
    "dtrain = xgb.DMatrix(train_data[features], train_data[target])\n",
    "dtest = xgb.DMatrix(test_data[features], test_data[target])\n",
    "\n",
    "watchlist = [(dtrain, 'train')]\n",
    "\n",
    "params = {\n",
    "    'n_estimators': 100,\n",
    "    'max_depth': 3,\n",
    "    'eta': 0.1,\n",
    "    'eval_metric': 'logloss',\n",
    "    'objective': 'binary:logistic',\n",
    "    'subsample': 1.0,\n",
    "    'colsample_bytree': 0.7,\n",
    "#     'random_state': 1123,\n",
    "#     'min_child_weight': 10\n",
    "    #'scale_pos_weight':0.5\n",
    "}\n",
    "\n",
    "xgb_a = xgb.train(params, dtrain,\n",
    "                  num_boost_round=250,\n",
    "                  early_stopping_rounds=20,\n",
    "                  evals=watchlist,\n",
    "                  verbose_eval=10)\n",
    "\n",
    "\n",
    "lgb_a = LGBMClassifier(n_estimators=200, max_depth=3, \n",
    "#                         num_leaves=50, \n",
    "#                        learning_rate=0.1, \n",
    "#                        seed=0, nthread=24, subsample=0.8, colsample_bytree=0.9, reg_lambda=0.005, \n",
    "                      )\n",
    "\n",
    "cate_features = ['user_gender_id', 'user_occupation_id']\n",
    "\n",
    "lgb_a.fit(train_data[features], train_data['is_trade'],\n",
    "          #         eval_set=[(train_x.loc[train_x.clickDay>25,feature_group_A],train_x.loc[train_x.clickDay>25,['label']])],\n",
    "          feature_name=features,\n",
    "          categorical_feature=cate_features,\n",
    "          verbose=50,\n",
    "          )\n",
    "\n",
    "lgb_predict_a = lgb_a.predict_proba(test_data[features])[:, 1]\n",
    "xgb_predict_a = xgb_a.predict(dtest)\n",
    "\n",
    "avg_predict = lgb_predict_a * 0.5 + xgb_predict_a * 0.5\n",
    "\n",
    "test_data['predicted_score'] = avg_predict\n",
    "\n",
    "test_data[['instance_id', 'predicted_score']].to_csv(\n",
    "    '../submission/20180403.txt', index=False, sep=' ')\n",
    "\n",
    "\n",
    "lgb_predict_a = lgb_a.predict_proba(train_data[features])[:, 1]\n",
    "xgb_predict_a = xgb_a.predict(dtrain)\n",
    "\n",
    "avg_predict = lgb_predict_a * 0.5 + xgb_predict_a * 0.5\n",
    "\n",
    "loss_train = log_loss(train_data[target], avg_predict)\n",
    "\n",
    "loss_train\n"
   ]
  },
  {
   "cell_type": "code",
   "execution_count": 102,
   "metadata": {},
   "outputs": [
    {
     "data": {
      "text/plain": [
       "0.083246709860995124"
      ]
     },
     "execution_count": 102,
     "metadata": {},
     "output_type": "execute_result"
    }
   ],
   "source": [
    "lgb_predict_a = lgb_a.predict_proba(train_data[features])[:, 1]\n",
    "xgb_predict_a = xgb_a.predict(dtrain)\n",
    "\n",
    "avg_predict = lgb_predict_a * 0.5 + xgb_predict_a * 0.5\n",
    "\n",
    "loss_train = log_loss(train_data[target], lgb_predict_a)\n",
    "\n",
    "loss_train"
   ]
  },
  {
   "cell_type": "code",
   "execution_count": null,
   "metadata": {
    "collapsed": true
   },
   "outputs": [],
   "source": []
  }
 ],
 "metadata": {
  "kernelspec": {
   "display_name": "Python 3",
   "language": "python",
   "name": "python3"
  },
  "language_info": {
   "codemirror_mode": {
    "name": "ipython",
    "version": 3
   },
   "file_extension": ".py",
   "mimetype": "text/x-python",
   "name": "python",
   "nbconvert_exporter": "python",
   "pygments_lexer": "ipython3",
   "version": "3.6.4"
  }
 },
 "nbformat": 4,
 "nbformat_minor": 2
}
