{
 "cells": [
  {
   "cell_type": "markdown",
   "metadata": {},
   "source": [
    "# 特征的平均日点击量"
   ]
  },
  {
   "cell_type": "code",
   "execution_count": 1,
   "metadata": {},
   "outputs": [],
   "source": [
    "import os\n",
    "import pickle\n",
    "import gc\n",
    "import pandas as pd\n",
    "import numpy as np\n",
    "from tqdm import tqdm\n",
    "from utils import load_pickle, dump_pickle, raw_data_path, feature_data_path"
   ]
  },
  {
   "cell_type": "code",
   "execution_count": 2,
   "metadata": {},
   "outputs": [],
   "source": [
    "def gen_feature_click_day_stats(data, feature):\n",
    "    '''生成分类属性日点击量的统计特征\n",
    "\n",
    "    '''\n",
    "\n",
    "    data = data.copy()[[feature, 'day']]\n",
    "\n",
    "    feature_click_day = pd.DataFrame(data.groupby(['day', feature]).size(\n",
    "    )).reset_index().rename(columns={0: 'feature_click_day'})\n",
    "\n",
    "    feature_click_day_mean = pd.DataFrame(feature_click_day.groupby([feature])['feature_click_day'].mean(\n",
    "    )).rename(columns={'feature_click_day': feature + '_click_day_mean'}).reset_index()\n",
    "\n",
    "    # 每个类别只保留一条记录\n",
    "    data = data.drop(['day', ], axis=1)\n",
    "    data = data.drop_duplicates([feature, ])\n",
    "    data = pd.merge(data, feature_click_day_mean, how='left', on=feature)\n",
    "\n",
    "    return data\n",
    "\n",
    "\n",
    "def gen_feature_click_stats():\n",
    "    \"\"\"生成各个分类属性日点击量的统计特征\n",
    "\n",
    "    file_name: (feature_id)_click_day_mean.pkl\n",
    "\n",
    "    example:\n",
    "        user_id_click_day_mean 该用户平均每天点击多少次\n",
    "\n",
    "    features:\n",
    "        'user_id_click_day_mean',  \n",
    "        'item_id_click_day_mean', \n",
    "        'item_brand_id_click_day_mean', \n",
    "        'shop_id_click_day_mean', \n",
    "        'context_page_id_click_day_mean', \n",
    "        'category2_label_click_day_mean',\n",
    "        'category2_label_click_day_mean',\n",
    "\n",
    "    \"\"\"\n",
    "\n",
    "    all_data = load_pickle(raw_data_path + 'all_data.pkl')\n",
    "\n",
    "    feature_list = ['user_id',\n",
    "                    'category2_label', 'category3_label',\n",
    "                    'shop_id', 'item_id', 'item_brand_id',\n",
    "                    'context_page_id',\n",
    "                    ]\n",
    "\n",
    "    for feature in tqdm(feature_list):\n",
    "        feature_path = feature_data_path +'_2_2_' + feature + '_click_day_mean.pkl'\n",
    "        print('generating ' + feature_path)\n",
    "\n",
    "        feature_stats = gen_feature_click_day_stats(all_data, feature)\n",
    "\n",
    "        print(feature_stats.columns)\n",
    "        dump_pickle(feature_stats, feature_path)\n",
    "\n",
    "\n",
    "def add_feature_click_stats(data,):\n",
    "    \"\"\"添加分类属性日点击量的统计特征\n",
    "\n",
    "    join_key: ['feature_id',]\n",
    "\n",
    "    \"\"\"\n",
    "\n",
    "    feature_list = ['user_id',\n",
    "                    'category2_label', 'category3_label',\n",
    "                    'shop_id', 'item_id', 'item_brand_id',\n",
    "                    'context_page_id',\n",
    "                    ]\n",
    "\n",
    "    for feature in tqdm(feature_list):\n",
    "        feature_path = feature_data_path +'_2_2_'+ feature + '_click_day_mean.pkl'\n",
    "        if not os.path.exists(feature_path):\n",
    "            gen_feature_click_stats()\n",
    "            \n",
    "        feature_click_day_stats = load_pickle(feature_path)\n",
    "        data = pd.merge(data, feature_click_day_stats, 'left', [feature, ])\n",
    "\n",
    "    return data"
   ]
  },
  {
   "cell_type": "code",
   "execution_count": null,
   "metadata": {},
   "outputs": [
    {
     "name": "stderr",
     "output_type": "stream",
     "text": [
      "  0%|          | 0/7 [00:00<?, ?it/s]/home/qwc/anaconda3/lib/python3.6/site-packages/tqdm/_monitor.py:89: TqdmSynchronisationWarning: Set changed size during iteration (see https://github.com/tqdm/tqdm/issues/481)\n",
      "  TqdmSynchronisationWarning)\n",
      "\n",
      "  0%|          | 0/7 [00:00<?, ?it/s]\u001b[A"
     ]
    },
    {
     "name": "stdout",
     "output_type": "stream",
     "text": [
      "generating ../features/_2_2_user_id_click_day_mean.pkl\n"
     ]
    },
    {
     "name": "stderr",
     "output_type": "stream",
     "text": [
      "\n",
      " 14%|█▍        | 1/7 [00:26<02:37, 26.32s/it]\u001b[A"
     ]
    },
    {
     "name": "stdout",
     "output_type": "stream",
     "text": [
      "Index(['user_id', 'user_id_click_day_mean'], dtype='object')\n",
      "generating ../features/_2_2_category2_label_click_day_mean.pkl\n"
     ]
    },
    {
     "name": "stderr",
     "output_type": "stream",
     "text": [
      "\n",
      " 29%|██▊       | 2/7 [00:40<01:40, 20.03s/it]\u001b[A"
     ]
    },
    {
     "name": "stdout",
     "output_type": "stream",
     "text": [
      "Index(['category2_label', 'category2_label_click_day_mean'], dtype='object')\n",
      "generating ../features/_2_2_category3_label_click_day_mean.pkl\n"
     ]
    },
    {
     "name": "stderr",
     "output_type": "stream",
     "text": [
      "\n",
      " 43%|████▎     | 3/7 [00:52<01:09, 17.45s/it]\u001b[A"
     ]
    },
    {
     "name": "stdout",
     "output_type": "stream",
     "text": [
      "Index(['category3_label', 'category3_label_click_day_mean'], dtype='object')\n",
      "generating ../features/_2_2_shop_id_click_day_mean.pkl\n"
     ]
    },
    {
     "name": "stderr",
     "output_type": "stream",
     "text": [
      "\n",
      " 57%|█████▋    | 4/7 [01:52<01:24, 28.21s/it]\u001b[A"
     ]
    },
    {
     "name": "stdout",
     "output_type": "stream",
     "text": [
      "Index(['shop_id', 'shop_id_click_day_mean'], dtype='object')\n",
      "generating ../features/_2_2_item_id_click_day_mean.pkl\n"
     ]
    },
    {
     "name": "stderr",
     "output_type": "stream",
     "text": [
      "\n",
      " 71%|███████▏  | 5/7 [02:58<01:11, 35.79s/it]\u001b[A"
     ]
    },
    {
     "name": "stdout",
     "output_type": "stream",
     "text": [
      "Index(['item_id', 'item_id_click_day_mean'], dtype='object')\n",
      "generating ../features/_2_2_item_brand_id_click_day_mean.pkl\n"
     ]
    },
    {
     "name": "stderr",
     "output_type": "stream",
     "text": [
      "\n",
      " 86%|████████▌ | 6/7 [03:16<00:32, 32.73s/it]\u001b[A"
     ]
    },
    {
     "name": "stdout",
     "output_type": "stream",
     "text": [
      "Index(['item_brand_id', 'item_brand_id_click_day_mean'], dtype='object')\n",
      "generating ../features/_2_2_context_page_id_click_day_mean.pkl\n"
     ]
    },
    {
     "name": "stderr",
     "output_type": "stream",
     "text": [
      "\n",
      "100%|██████████| 7/7 [04:08<00:00, 35.45s/it]\u001b[A\n",
      "\u001b[A"
     ]
    },
    {
     "name": "stdout",
     "output_type": "stream",
     "text": [
      "Index(['context_page_id', 'context_page_id_click_day_mean'], dtype='object')\n"
     ]
    },
    {
     "name": "stderr",
     "output_type": "stream",
     "text": [
      " 57%|█████▋    | 4/7 [06:47<05:05, 101.98s/it]"
     ]
    }
   ],
   "source": [
    "if __name__ =='__main__':\n",
    "    data = load_pickle(raw_data_path + 'all_data_4567.pkl')\n",
    "    data = add_feature_click_stats(data)\n",
    "    print(data.columns)"
   ]
  },
  {
   "cell_type": "code",
   "execution_count": 4,
   "metadata": {},
   "outputs": [
    {
     "data": {
      "text/plain": [
       "index                                        0\n",
       "instance_id                                  0\n",
       "item_id                                      0\n",
       "item_category_list                           0\n",
       "item_property_list                           0\n",
       "item_brand_id                                0\n",
       "item_city_id                                 0\n",
       "item_price_level                             0\n",
       "item_sales_level                             0\n",
       "item_collected_level                         0\n",
       "item_pv_level                                0\n",
       "user_id                                      0\n",
       "user_gender_id                               0\n",
       "user_age_level                               0\n",
       "user_occupation_id                           0\n",
       "user_star_level                              0\n",
       "context_id                                   0\n",
       "context_timestamp                            0\n",
       "context_page_id                              0\n",
       "predict_category_property                    0\n",
       "shop_id                                      0\n",
       "shop_review_num_level                        0\n",
       "shop_review_positive_rate                    0\n",
       "shop_star_level                              0\n",
       "shop_score_service                           0\n",
       "shop_score_delivery                          0\n",
       "shop_score_description                       0\n",
       "is_trade                                     0\n",
       "day                                          0\n",
       "hour                                         0\n",
       "                                            ..\n",
       "user_star_level_item_price_level             0\n",
       "user_star_level_item_sales_level             0\n",
       "user_star_level_shop_star_level              0\n",
       "user_star_level_shop_review_num_level        0\n",
       "user_star_level_shop_review_positive_rate    0\n",
       "user_star_level_category2_label              0\n",
       "user_star_level_category3_label              0\n",
       "user_star_level_context_page_id              0\n",
       "user_star_level_hour                         0\n",
       "user_gender_id_user_age_level                0\n",
       "user_gender_id_user_occupation_id            0\n",
       "user_age_level_user_occupation_id            0\n",
       "item_price_level_bin                         0\n",
       "item_sales_level_bin                         0\n",
       "item_collected_level_bin                     0\n",
       "item_pv_level_bin                            0\n",
       "shop_review_num_level_bin                    0\n",
       "shop_review_positive_rate_bin                0\n",
       "shop_star_level_bin                          0\n",
       "shop_score_service_bin                       0\n",
       "shop_score_delivery_bin                      0\n",
       "shop_score_description_bin                   0\n",
       "item_property_topic_k_10                     0\n",
       "user_id_click_day_mean                       0\n",
       "category2_label_click_day_mean               0\n",
       "category3_label_click_day_mean               0\n",
       "shop_id_click_day_mean                       0\n",
       "item_id_click_day_mean                       0\n",
       "item_brand_id_click_day_mean                 0\n",
       "context_page_id_click_day_mean               0\n",
       "Length: 90, dtype: int64"
      ]
     },
     "execution_count": 4,
     "metadata": {},
     "output_type": "execute_result"
    }
   ],
   "source": [
    "data.isnull().sum()"
   ]
  },
  {
   "cell_type": "code",
   "execution_count": 5,
   "metadata": {},
   "outputs": [
    {
     "data": {
      "text/plain": [
       "index                                           int64\n",
       "instance_id                                     int64\n",
       "item_id                                         int64\n",
       "item_category_list                             object\n",
       "item_property_list                             object\n",
       "item_brand_id                                   int64\n",
       "item_city_id                                    int64\n",
       "item_price_level                                int64\n",
       "item_sales_level                                int64\n",
       "item_collected_level                            int64\n",
       "item_pv_level                                   int64\n",
       "user_id                                         int64\n",
       "user_gender_id                                  int64\n",
       "user_age_level                                  int64\n",
       "user_occupation_id                              int64\n",
       "user_star_level                                 int64\n",
       "context_id                                      int64\n",
       "context_timestamp                               int64\n",
       "context_page_id                                 int64\n",
       "predict_category_property                      object\n",
       "shop_id                                         int64\n",
       "shop_review_num_level                           int64\n",
       "shop_review_positive_rate                     float32\n",
       "shop_star_level                                 int64\n",
       "shop_score_service                            float32\n",
       "shop_score_delivery                           float32\n",
       "shop_score_description                        float32\n",
       "is_trade                                        int64\n",
       "day                                             int64\n",
       "hour                                            int64\n",
       "                                               ...   \n",
       "user_star_level_item_price_level                int64\n",
       "user_star_level_item_sales_level                int64\n",
       "user_star_level_shop_star_level                 int64\n",
       "user_star_level_shop_review_num_level           int64\n",
       "user_star_level_shop_review_positive_rate       int64\n",
       "user_star_level_category2_label                 int64\n",
       "user_star_level_category3_label                 int64\n",
       "user_star_level_context_page_id                 int64\n",
       "user_star_level_hour                            int64\n",
       "user_gender_id_user_age_level                   int64\n",
       "user_gender_id_user_occupation_id               int64\n",
       "user_age_level_user_occupation_id               int64\n",
       "item_price_level_bin                         category\n",
       "item_sales_level_bin                         category\n",
       "item_collected_level_bin                     category\n",
       "item_pv_level_bin                            category\n",
       "shop_review_num_level_bin                    category\n",
       "shop_review_positive_rate_bin                category\n",
       "shop_star_level_bin                          category\n",
       "shop_score_service_bin                       category\n",
       "shop_score_delivery_bin                      category\n",
       "shop_score_description_bin                   category\n",
       "item_property_topic_k_10                        int64\n",
       "user_id_click_day_mean                        float64\n",
       "category2_label_click_day_mean                float64\n",
       "category3_label_click_day_mean                float64\n",
       "shop_id_click_day_mean                        float64\n",
       "item_id_click_day_mean                        float64\n",
       "item_brand_id_click_day_mean                  float64\n",
       "context_page_id_click_day_mean                float64\n",
       "Length: 90, dtype: object"
      ]
     },
     "execution_count": 5,
     "metadata": {},
     "output_type": "execute_result"
    }
   ],
   "source": [
    "data.dtypes"
   ]
  },
  {
   "cell_type": "code",
   "execution_count": 6,
   "metadata": {},
   "outputs": [
    {
     "data": {
      "text/plain": [
       "6    1934443\n",
       "7    1597063\n",
       "5    1200219\n",
       "4    1157641\n",
       "Name: day, dtype: int64"
      ]
     },
     "execution_count": 6,
     "metadata": {},
     "output_type": "execute_result"
    }
   ],
   "source": [
    "data.day.value_counts()"
   ]
  },
  {
   "cell_type": "code",
   "execution_count": null,
   "metadata": {
    "collapsed": true
   },
   "outputs": [],
   "source": []
  }
 ],
 "metadata": {
  "kernelspec": {
   "display_name": "Python 3",
   "language": "python",
   "name": "python3"
  },
  "language_info": {
   "codemirror_mode": {
    "name": "ipython",
    "version": 3
   },
   "file_extension": ".py",
   "mimetype": "text/x-python",
   "name": "python",
   "nbconvert_exporter": "python",
   "pygments_lexer": "ipython3",
   "version": "3.6.4"
  }
 },
 "nbformat": 4,
 "nbformat_minor": 2
}
