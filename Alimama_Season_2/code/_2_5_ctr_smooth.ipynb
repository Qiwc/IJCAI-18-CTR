{
 "cells": [
  {
   "cell_type": "code",
   "execution_count": 2,
   "metadata": {},
   "outputs": [],
   "source": [
    "import os\n",
    "import pickle\n",
    "import pandas as pd\n",
    "import numpy as np\n",
    "import time\n",
    "from tqdm import tqdm\n",
    "from utils import raw_data_path, feature_data_path,result_path,cache_pkl_path,dump_pickle,load_pickle\n",
    "from smooth import BayesianSmoothing"
   ]
  },
  {
   "cell_type": "markdown",
   "metadata": {},
   "source": [
    "# 2-9历史CTR"
   ]
  },
  {
   "cell_type": "code",
   "execution_count": 3,
   "metadata": {},
   "outputs": [],
   "source": [
    "def gen_29_smooth_ctr():\n",
    "    all_data = load_pickle(raw_data_path+'all_data.pkl')    \n",
    "    for feature_1 in (['user_gender_id', 'user_age_level', 'user_occupation_id', 'user_star_level']):\n",
    "        for feature_2 in tqdm(['item_price_level', 'item_sales_level', \n",
    "                                'shop_star_level', 'shop_review_num_level', 'shop_review_positive_rate',\n",
    "                               'category2_label', 'category3_label',\n",
    "                              ]):\n",
    "\n",
    "            feature_path = feature_data_path+'_2_5_'+feature_1 + '_' + feature_2+'_CTR.pkl' #要存放的目录\n",
    "            if os.path.exists(feature_path):\n",
    "                print('found ' + feature_path)\n",
    "            else:\n",
    "                feature = feature_1 + '_' + feature_2\n",
    "                print('generating ' + feature_path)\n",
    "                I_alias = feature+'_smooth_I' #总点击次数\n",
    "                C_alias = feature+'_smooth_C' #购买次数\n",
    "                CTR_alias = feature+'_smooth_CTR'\n",
    "                history_ctr = pd.DataFrame()\n",
    "                for day in range(4,8):            \n",
    "                    history_data = all_data[all_data['day'] < day]\n",
    "                    I = history_data.groupby([feature]).size().reset_index().rename(columns={0: I_alias})\n",
    "                    C = history_data[history_data['is_trade'] == 1].groupby([feature]).size().reset_index().rename(columns={0: C_alias})\n",
    "                    CTR = pd.merge(I, C, how='left', on=[feature])\n",
    "                    CTR[C_alias] = CTR[C_alias].fillna(0)\n",
    "                    CTR[CTR_alias] = (CTR[C_alias]) / (CTR[I_alias])\n",
    "                    CTR['day'] = day\n",
    "                    history_ctr = history_ctr.append(CTR)\n",
    "\n",
    "#                 dump_pickle(history_ctr[['day', feature, I_alias, C_alias, CTR_alias]],feature_path)  #存储\n",
    "                dump_pickle(history_ctr[['day', feature, CTR_alias]],feature_path)  #存储\n",
    "                   \n",
    "    #     user自身特征交叉\n",
    "    user_features = ['user_gender_id', 'user_age_level', 'user_occupation_id', 'user_star_level']\n",
    "    for i, feature_1 in enumerate(user_features):\n",
    "        for j, feature_2 in enumerate(user_features):\n",
    "            if i < j:\n",
    "                feature_path = feature_data_path+'_2_5_'+feature_1 + '_' + feature_2+'_CTR.pkl' #要存放的目录\n",
    "                if os.path.exists(feature_path):\n",
    "                    print('found ' + feature_path)\n",
    "                else:\n",
    "                    feature = feature_1 + '_' + feature_2\n",
    "                    print('generating ' + feature_path)\n",
    "                    I_alias = feature+'_smooth_I' #总点击次数\n",
    "                    C_alias = feature+'_smooth_C' #购买次数\n",
    "                    CTR_alias = feature+'_smooth_CTR'\n",
    "                    history_ctr = pd.DataFrame()\n",
    "                    for day in range(4,8):            \n",
    "                        history_data = all_data[all_data['day'] < day]\n",
    "                        I = history_data.groupby([feature]).size().reset_index().rename(columns={0: I_alias})\n",
    "                        C = history_data[history_data['is_trade'] == 1].groupby([feature]).size().reset_index().rename(columns={0: C_alias})\n",
    "                        CTR = pd.merge(I, C, how='left', on=[feature])\n",
    "                        CTR[C_alias] = CTR[C_alias].fillna(0)\n",
    "                        CTR[CTR_alias] = (CTR[C_alias]) / (CTR[I_alias])\n",
    "                        CTR['day'] = day\n",
    "                        history_ctr = history_ctr.append(CTR)\n",
    "\n",
    "                    dump_pickle(history_ctr[['day', feature, CTR_alias]],feature_path)  #存储\n",
    "                \n",
    "                \n",
    "                \n",
    "\n",
    "def add_29_smooth_ctr(all_data):\n",
    "    for feature_1 in (['user_gender_id', 'user_age_level', 'user_occupation_id', 'user_star_level']):\n",
    "        for feature_2 in tqdm(['item_price_level', 'item_sales_level', \n",
    "                               'shop_star_level', 'shop_review_num_level', 'shop_review_positive_rate',\n",
    "                               'category2_label', 'category3_label',\n",
    "                              ]):\n",
    "            feature_path = feature_data_path+'_2_5_'+feature_1 + '_' + feature_2+'_CTR.pkl' #要存放的目录\n",
    "            if not os.path.exists(feature_path):\n",
    "                gen_29_smooth_ctr()\n",
    "            ctr_data = load_pickle(feature_path)\n",
    "            feature = feature_1 + '_' + feature_2\n",
    "            all_data = pd.merge(all_data, ctr_data, how='left', on=[feature, 'day'])\n",
    "#             all_data[feature+'_smooth_I'] = all_data[feature+'_smooth_I'].fillna(0)\n",
    "#             all_data[feature+'_smooth_C'] = all_data[feature+'_smooth_C'].fillna(0)\n",
    "            \n",
    "     #     user自身特征交叉\n",
    "    user_features = ['user_gender_id', 'user_age_level', 'user_occupation_id', 'user_star_level']\n",
    "    for i, feature_1 in enumerate(user_features):\n",
    "        for j, feature_2 in enumerate(user_features):\n",
    "            if i < j:\n",
    "                feature_path = feature_data_path+'_2_5_'+feature_1 + '_' + feature_2+'_CTR.pkl' #要存放的目录\n",
    "                if not os.path.exists(feature_path):\n",
    "                    gen_29_smooth_ctr()\n",
    "                ctr_data = load_pickle(feature_path)\n",
    "                feature = feature_1 + '_' + feature_2\n",
    "                all_data = pd.merge(all_data, ctr_data, how='left', on=[feature, 'day'])\n",
    "#                 all_data[feature+'_smooth_I'] = all_data[feature+'_smooth_I'].fillna(0)\n",
    "#                 all_data[feature+'_smooth_C'] = all_data[feature+'_smooth_C'].fillna(0)\n",
    "            \n",
    "    return all_data       "
   ]
  },
  {
   "cell_type": "markdown",
   "metadata": {},
   "source": [
    "# 2-9hour CTR"
   ]
  },
  {
   "cell_type": "code",
   "execution_count": 4,
   "metadata": {},
   "outputs": [],
   "source": [
    "def gen_29_hour_ctr():\n",
    "    all_data = load_pickle(raw_data_path+'all_data.pkl')    \n",
    "    for feature_1 in (['user_gender_id', 'user_age_level', 'user_occupation_id', 'user_star_level']):\n",
    "        for feature_2 in tqdm(['item_price_level', 'item_sales_level', \n",
    "                                'shop_star_level', 'shop_review_num_level', 'shop_review_positive_rate',\n",
    "                               'category2_label', 'category3_label',\n",
    "                              ]):\n",
    "\n",
    "            feature_path = feature_data_path+'_2_5_'+feature_1 + '_' + feature_2+'_hour_CTR.pkl' #要存放的目录\n",
    "            if os.path.exists(feature_path):\n",
    "                print('found ' + feature_path)\n",
    "            else:\n",
    "                feature = feature_1 + '_' + feature_2\n",
    "                print('generating ' + feature_path)\n",
    "                I_alias = feature+'_hour_I' #总点击次数\n",
    "                C_alias = feature+'_hour_C' #购买次数\n",
    "                CTR_alias = feature+'_hour_CTR'\n",
    "                history_ctr = pd.DataFrame()\n",
    "                for day in range(4,8):            \n",
    "                    history_data = all_data[all_data['day'] < day]\n",
    "                    I = history_data.groupby([feature, 'hour_bin']).size().reset_index().rename(columns={0: I_alias})\n",
    "                    C = history_data[history_data['is_trade'] == 1].groupby([feature, 'hour_bin']).size().reset_index().rename(columns={0: C_alias})\n",
    "                    CTR = pd.merge(I, C, how='left', on=[feature, 'hour_bin'])\n",
    "                    CTR[C_alias] = CTR[C_alias].fillna(0)\n",
    "                    CTR[CTR_alias] = (CTR[C_alias]) / (CTR[I_alias])\n",
    "                    CTR['day'] = day\n",
    "                    history_ctr = history_ctr.append(CTR)\n",
    "\n",
    "                dump_pickle(history_ctr[['day', 'hour_bin', feature, CTR_alias]],feature_path)  #存储\n",
    "                   \n",
    "    #     user自身特征交叉\n",
    "    user_features = ['user_gender_id', 'user_age_level', 'user_occupation_id', 'user_star_level']\n",
    "    for i, feature_1 in enumerate(user_features):\n",
    "        for j, feature_2 in enumerate(user_features):\n",
    "            if i < j:\n",
    "                feature_path = feature_data_path+'_2_5_'+feature_1 + '_' + feature_2+'_hour_CTR.pkl' #要存放的目录\n",
    "                if os.path.exists(feature_path):\n",
    "                    print('found ' + feature_path)\n",
    "                else:\n",
    "                    feature = feature_1 + '_' + feature_2\n",
    "                    print('generating ' + feature_path)\n",
    "                    I_alias = feature+'_hour_I' #总点击次数\n",
    "                    C_alias = feature+'_hour_C' #购买次数\n",
    "                    CTR_alias = feature+'_hour_CTR'\n",
    "                    history_ctr = pd.DataFrame()\n",
    "                    for day in range(4,8):            \n",
    "                        history_data = all_data[all_data['day'] < day]\n",
    "                        I = history_data.groupby([feature, 'hour_bin']).size().reset_index().rename(columns={0: I_alias})\n",
    "                        C = history_data[history_data['is_trade'] == 1].groupby([feature, 'hour_bin']).size().reset_index().rename(columns={0: C_alias})\n",
    "                        CTR = pd.merge(I, C, how='left', on=[feature, 'hour_bin'])\n",
    "                        CTR[C_alias] = CTR[C_alias].fillna(0)\n",
    "                        CTR[CTR_alias] = (CTR[C_alias]) / (CTR[I_alias])\n",
    "                        CTR['day'] = day\n",
    "                        history_ctr = history_ctr.append(CTR)\n",
    "\n",
    "                    dump_pickle(history_ctr[['day', 'hour_bin', feature, CTR_alias]],feature_path)  #存储\n",
    "                \n",
    "                \n",
    "                \n",
    "\n",
    "def add_29_hour_ctr(all_data):\n",
    "    for feature_1 in (['user_gender_id', 'user_age_level', 'user_occupation_id', 'user_star_level']):\n",
    "        for feature_2 in tqdm(['item_price_level', 'item_sales_level', \n",
    "                                'shop_star_level', 'shop_review_num_level', 'shop_review_positive_rate',\n",
    "                               'category2_label', 'category3_label',\n",
    "                              ]):\n",
    "            feature_path = feature_data_path+'_2_5_'+feature_1 + '_' + feature_2+'_hour_CTR.pkl' #要存放的目录\n",
    "            if not os.path.exists(feature_path):\n",
    "                gen_29_hour_ctr()\n",
    "            ctr_data = load_pickle(feature_path)\n",
    "            feature = feature_1 + '_' + feature_2\n",
    "            all_data = pd.merge(all_data, ctr_data, how='left', on=[feature, 'day', 'hour_bin'])\n",
    "#             all_data[feature+'_hour_I'] = all_data[feature+'_hour_I'].fillna(0)\n",
    "#             all_data[feature+'_hour_C'] = all_data[feature+'_hour_C'].fillna(0)\n",
    "            \n",
    "     #     user自身特征交叉\n",
    "    user_features = ['user_gender_id', 'user_age_level', 'user_occupation_id', 'user_star_level']\n",
    "    for i, feature_1 in enumerate(user_features):\n",
    "        for j, feature_2 in enumerate(user_features):\n",
    "            if i < j:\n",
    "                feature_path = feature_data_path+'_2_5_'+feature_1 + '_' + feature_2+'_hour_CTR.pkl' #要存放的目录\n",
    "                if not os.path.exists(feature_path):\n",
    "                    gen_29_hour_ctr()\n",
    "                ctr_data = load_pickle(feature_path)\n",
    "                feature = feature_1 + '_' + feature_2\n",
    "                all_data = pd.merge(all_data, ctr_data, how='left', on=[feature, 'day', 'hour_bin'])\n",
    "#                 all_data[feature+'_hour_I'] = all_data[feature+'_hour_I'].fillna(0)\n",
    "#                 all_data[feature+'_hour_C'] = all_data[feature+'_hour_C'].fillna(0)\n",
    "            \n",
    "    return all_data     "
   ]
  },
  {
   "cell_type": "markdown",
   "metadata": {},
   "source": [
    "# 单特征历史CTR"
   ]
  },
  {
   "cell_type": "code",
   "execution_count": 5,
   "metadata": {},
   "outputs": [],
   "source": [
    "def gen_features_smooth_ctr():\n",
    "    all_data = load_pickle(raw_data_path+'all_data.pkl')    \n",
    "    for feature in tqdm(['user_id', \n",
    "                         'item_id', 'item_brand_id',\n",
    "                         'category2_label', 'category3_label',\n",
    "                         'context_page_id', \n",
    "                         'shop_id',\n",
    "                         'item_sales_level_bin', 'item_price_level_bin','item_collected_level_bin','item_pv_level_bin',\n",
    "                         'shop_review_num_level_bin', 'shop_review_positive_rate_bin', 'shop_star_level_bin',\n",
    "                         'shop_score_service_bin', 'shop_score_delivery_bin', 'shop_score_description_bin',\n",
    "                         'hour'\n",
    "                        ]):    \n",
    "        feature_path = feature_data_path+'_2_5_'+feature+'_smooth_CTR.pkl' #要存放的目录\n",
    "        if os.path.exists(feature_path):\n",
    "            print('found ' + feature_path)\n",
    "        else:\n",
    "            print('generating ' + feature_path)\n",
    "            I_alias = feature+'_smooth_I' #总点击次数\n",
    "            C_alias = feature+'_smooth_C' #购买次数\n",
    "            CTR_alias = feature+'_smooth_CTR'\n",
    "            history_ctr = pd.DataFrame()\n",
    "            for day in range(4,8):            \n",
    "                history_data = all_data[all_data['day'] < day]\n",
    "                I = history_data.groupby([feature]).size().reset_index().rename(columns={0: I_alias})\n",
    "                C = history_data[history_data['is_trade'] == 1].groupby([feature]).size().reset_index().rename(columns={0: C_alias})\n",
    "                CTR = pd.merge(I, C, how='left', on=[feature])\n",
    "                CTR[C_alias] = CTR[C_alias].fillna(0)\n",
    "                CTR[CTR_alias] = (CTR[C_alias]) / (CTR[I_alias])\n",
    "                CTR['day'] = day\n",
    "                history_ctr = history_ctr.append(CTR)\n",
    " \n",
    "            dump_pickle(history_ctr[['day', feature, I_alias, C_alias, CTR_alias]],feature_path)  #存储\n",
    "\n",
    "def add_features_smooth_ctr(all_data):\n",
    "    for feature in tqdm(['user_id', \n",
    "                         'item_id', 'item_brand_id',\n",
    "                         'category2_label', 'category3_label',\n",
    "                         'context_page_id', \n",
    "                         'shop_id',\n",
    "                         'item_sales_level_bin', 'item_price_level_bin','item_collected_level_bin','item_pv_level_bin',\n",
    "                         'shop_review_num_level_bin', 'shop_review_positive_rate_bin', 'shop_star_level_bin',\n",
    "                         'shop_score_service_bin', 'shop_score_delivery_bin', 'shop_score_description_bin',\n",
    "                         'hour'\n",
    "                        ]):  \n",
    "        feature_path = feature_data_path+'_2_5_'+feature+'_smooth_CTR.pkl'\n",
    "        if not os.path.exists(feature_path):\n",
    "            gen_features_smooth_ctr()\n",
    "        ctr_data = load_pickle(feature_path)\n",
    "        all_data = pd.merge(all_data, ctr_data, how='left', on=[feature, 'day'])\n",
    "        all_data[feature+'_smooth_I'] = all_data[feature+'_smooth_I'].fillna(0)\n",
    "        all_data[feature+'_smooth_C'] = all_data[feature+'_smooth_C'].fillna(0)\n",
    "    return all_data       "
   ]
  },
  {
   "cell_type": "markdown",
   "metadata": {},
   "source": [
    "# 单特征与hour组合"
   ]
  },
  {
   "cell_type": "code",
   "execution_count": 6,
   "metadata": {},
   "outputs": [],
   "source": [
    "def gen_features_hour_ctr():\n",
    "    all_data = load_pickle(raw_data_path+'all_data.pkl')    \n",
    "    for feature in tqdm(['user_id', \n",
    "                         'item_id', 'item_brand_id',\n",
    "                         'category2_label', 'category3_label',\n",
    "                         'context_page_id', \n",
    "                         'shop_id',\n",
    "                         'item_sales_level_bin', 'item_price_level_bin','item_collected_level_bin','item_pv_level_bin',\n",
    "                         'shop_review_num_level_bin', 'shop_review_positive_rate_bin', 'shop_star_level_bin',\n",
    "                         'shop_score_service_bin', 'shop_score_delivery_bin', 'shop_score_description_bin',\n",
    "                        ]):    \n",
    "        feature_path = feature_data_path+'_2_5_'+feature+'_hour_CTR.pkl' #要存放的目录\n",
    "        if os.path.exists(feature_path):\n",
    "            print('found ' + feature_path)\n",
    "        else:\n",
    "            print('generating ' + feature_path)\n",
    "            I_alias = feature+'_hour_I' #总点击次数\n",
    "            C_alias = feature+'_hour_C' #购买次数\n",
    "            CTR_alias = feature+'_hour_CTR'\n",
    "            history_ctr = pd.DataFrame()\n",
    "            for day in range(4,8):            \n",
    "                history_data = all_data[all_data['day'] < day]\n",
    "                I = history_data.groupby([feature, 'hour_bin']).size().reset_index().rename(columns={0: I_alias})\n",
    "                C = history_data[history_data['is_trade'] == 1].groupby([feature, 'hour_bin']).size().reset_index().rename(columns={0: C_alias})\n",
    "                CTR = pd.merge(I, C, how='left', on=[feature, 'hour_bin'])\n",
    "                CTR[C_alias] = CTR[C_alias].fillna(0)\n",
    "                CTR[CTR_alias] = (CTR[C_alias]) / (CTR[I_alias])\n",
    "                CTR['day'] = day\n",
    "                history_ctr = history_ctr.append(CTR)\n",
    " \n",
    "            dump_pickle(history_ctr[['day', 'hour_bin', feature,CTR_alias]],feature_path)  #存储\n",
    "\n",
    "def add_features_hour_ctr(all_data):\n",
    "    for feature in tqdm(['user_id', \n",
    "                         'item_id', 'item_brand_id',\n",
    "                         'category2_label', 'category3_label',\n",
    "                         'context_page_id', \n",
    "                         'shop_id',\n",
    "                         'item_sales_level_bin', 'item_price_level_bin','item_collected_level_bin','item_pv_level_bin',\n",
    "                         'shop_review_num_level_bin', 'shop_review_positive_rate_bin', 'shop_star_level_bin',\n",
    "                         'shop_score_service_bin', 'shop_score_delivery_bin', 'shop_score_description_bin',\n",
    "                        ]):  \n",
    "        feature_path = feature_data_path+'_2_5_'+feature+'_hour_CTR.pkl'\n",
    "        if not os.path.exists(feature_path):\n",
    "            gen_features_hour_ctr()\n",
    "        ctr_data = load_pickle(feature_path)\n",
    "        all_data = pd.merge(all_data, ctr_data, how='left', on=[feature, 'day', 'hour_bin'])\n",
    "\n",
    "    return all_data       "
   ]
  },
  {
   "cell_type": "markdown",
   "metadata": {},
   "source": [
    "# user_id历史点击某某某的数量"
   ]
  },
  {
   "cell_type": "code",
   "execution_count": 7,
   "metadata": {},
   "outputs": [],
   "source": [
    "def gen_features_cross_history_ctr():\n",
    "    all_data = load_pickle(raw_data_path+'all_data.pkl')    \n",
    "    for feature in tqdm(['user_id']):  \n",
    "        for feature2 in tqdm(['item_id', 'item_brand_id',\n",
    "                             'category2_label', 'category3_label', \n",
    "                             'shop_id', 'item_sales_level_bin', 'item_price_level_bin']):            \n",
    "            feature_path = feature_data_path+'_2_5_'+feature+'_'+feature2+'_before_history_CTR.pkl' #要存放的目录\n",
    "            if os.path.exists(feature_path):\n",
    "                print('found ' + feature_path)\n",
    "            else:\n",
    "\n",
    "                print('generating ' + feature_path)\n",
    "                I_alias = feature+'_'+feature2+'_history_I' #总点击次数\n",
    "                C_alias = feature+'_'+feature2+'_history_C' #购买次数\n",
    "                CTR_alias = feature+'_'+feature2+'_history_CTR'\n",
    "                history_ctr = pd.DataFrame()\n",
    "                for day in range(4,8):\n",
    "\n",
    "                    history_data = all_data[all_data['day'] <= day-1]\n",
    "                    I = history_data.groupby([feature, feature2]).size().reset_index().rename(columns={0: I_alias})\n",
    "                    C = history_data[history_data['is_trade'] == 1].groupby([feature, feature2]).size().reset_index().rename(columns={0: C_alias})\n",
    "                    CTR = pd.merge(I, C, how='left', on=[feature, feature2])\n",
    "                    CTR[C_alias] = CTR[C_alias].fillna(0)\n",
    "                    CTR[CTR_alias] = CTR[C_alias] / CTR[I_alias]\n",
    "                    CTR['day'] = day\n",
    "                    history_ctr = history_ctr.append(CTR)\n",
    "\n",
    "                dump_pickle(history_ctr[['day', feature, feature2, I_alias, C_alias, CTR_alias]],feature_path)  #存储\n",
    "\n",
    "def add_features_cross_history_ctr(all_data):\n",
    "    for feature in tqdm(['user_id',]):\n",
    "   \n",
    "        for feature2 in tqdm(['item_id', 'item_brand_id',\n",
    "                         'category2_label', 'category3_label', \n",
    "                         'shop_id', 'item_sales_level_bin', 'item_price_level_bin']):  \n",
    "            \n",
    "            I_alias = feature+'_'+feature2+'_history_I' #总点击次数\n",
    "            C_alias = feature+'_'+feature2+'_history_C' #购买次数\n",
    "            feature_path = feature_data_path+'_2_5_'+feature+'_'+feature2+'_before_history_CTR.pkl' #要存放的目录\n",
    "       \n",
    "            if not os.path.exists(feature_path):\n",
    "                gen_features_cross_history_ctr()\n",
    "            ctr_data = load_pickle(feature_path)\n",
    "            all_data = pd.merge(all_data, ctr_data, how='left', on=[feature, feature2, 'day'])\n",
    "            all_data[I_alias] = all_data[I_alias].fillna(0)\n",
    "            all_data[C_alias] = all_data[C_alias].fillna(0)\n",
    "    return all_data       "
   ]
  },
  {
   "cell_type": "markdown",
   "metadata": {},
   "source": [
    "# 特征交叉"
   ]
  },
  {
   "cell_type": "code",
   "execution_count": null,
   "metadata": {},
   "outputs": [],
   "source": [
    "def gen_features_cross_smooth_ctr():\n",
    "    '''\n",
    "    贝叶斯平滑版\n",
    "    提取每天前些天的，分别以feature=['user_id', 'item_id', 'item_brand_id', 'shop_id']分类的，总点击次数_I,总购买次数_C,点击率_CTR\n",
    "    以['day', feature, I_alias, C_alias, CTR_alias]存储\n",
    "    文件名，【】_CTR.pkl\n",
    "    '''\n",
    "    all_data = load_pickle(raw_data_path+'all_data.pkl')    \n",
    " \n",
    "    for feature in tqdm(['user_gender_id', 'user_age_level', 'user_occupation_id', 'user_star_level']):\n",
    "   \n",
    "        for feature2 in tqdm(['shop_id', 'item_id', 'item_brand_id',]):  \n",
    "            \n",
    "            feature_path = feature_data_path+feature+'_'+feature2+'_smooth_CTR.pkl' #要存放的目录\n",
    "            if os.path.exists(feature_path):\n",
    "                print('found ' + feature_path)\n",
    "            else:\n",
    "\n",
    "                print('generating ' + feature_path)\n",
    "                I_alias = feature+'_'+feature2+'_smooth_I' #总点击次数\n",
    "                C_alias = feature+'_'+feature2+'_smooth_C' #购买次数\n",
    "                CTR_alias = feature+'_'+feature2+'_smooth_CTR'\n",
    "                history_ctr = pd.DataFrame()\n",
    "                for day in range(4,8):\n",
    "\n",
    "                    history_data = all_data[all_data['day'] < day]\n",
    "                    I = history_data.groupby([feature, feature2]).size().reset_index().rename(columns={0: I_alias})\n",
    "                    C = history_data[history_data['is_trade'] == 1].groupby([feature, feature2]).size().reset_index().rename(columns={0: C_alias})\n",
    "                    CTR = pd.merge(I, C, how='left', on=[feature, feature2])\n",
    "                    CTR[C_alias] = CTR[C_alias].fillna(0)\n",
    "\n",
    "                    CTR[CTR_alias] = (CTR[C_alias]) / (CTR[I_alias])\n",
    "                    CTR['day'] = day\n",
    "                    history_ctr = history_ctr.append(CTR)\n",
    "                dump_pickle(history_ctr[['day', feature, feature2, CTR_alias]],feature_path)  #存储\n",
    "\n",
    "def add_features_cross_smooth_ctr(all_data):\n",
    "    '''\n",
    "    向总体数据添加特征\n",
    "    feature=['user_id', 'item_id', 'item_brand_id', 'shop_id', 'context_page_id', 'category2_label', 'item_price_level', 'category_predict_rank']\n",
    "    拼接键[feature, 'day']\n",
    "    '''\n",
    "    for feature in tqdm(['user_gender_id', 'user_age_level', 'user_occupation_id', 'user_star_level']):\n",
    "   \n",
    "        for feature2 in tqdm(['shop_id', 'item_id', 'item_brand_id',]):  \n",
    "            \n",
    "            feature_path = feature_data_path+feature+'_'+feature2+'_smooth_CTR.pkl' #要存放的目录\n",
    "       \n",
    "            if not os.path.exists(feature_path):\n",
    "                gen_features_cross_smooth_ctr()\n",
    "            ctr_data = load_pickle(feature_path)\n",
    "            all_data = pd.merge(all_data, ctr_data, how='left', on=[feature, feature2, 'day'])\n",
    "    return all_data     "
   ]
  },
  {
   "cell_type": "markdown",
   "metadata": {},
   "source": [
    "# 测试"
   ]
  },
  {
   "cell_type": "code",
   "execution_count": null,
   "metadata": {
    "scrolled": true
   },
   "outputs": [
    {
     "name": "stderr",
     "output_type": "stream",
     "text": [
      "  0%|          | 0/17 [00:00<?, ?it/s]/home/qwc/anaconda3/lib/python3.6/site-packages/tqdm/_monitor.py:89: TqdmSynchronisationWarning: Set changed size during iteration (see https://github.com/tqdm/tqdm/issues/481)\n",
      "  TqdmSynchronisationWarning)\n",
      "\n",
      "  0%|          | 0/17 [00:00<?, ?it/s]\u001b[A"
     ]
    },
    {
     "name": "stdout",
     "output_type": "stream",
     "text": [
      "generating ../features/_2_5_user_id_hour_CTR.pkl\n"
     ]
    },
    {
     "name": "stderr",
     "output_type": "stream",
     "text": [
      "\n",
      "  6%|▌         | 1/17 [00:47<12:32, 47.04s/it]\u001b[A"
     ]
    },
    {
     "name": "stdout",
     "output_type": "stream",
     "text": [
      "generating ../features/_2_5_item_id_hour_CTR.pkl\n"
     ]
    },
    {
     "name": "stderr",
     "output_type": "stream",
     "text": [
      "\n",
      " 12%|█▏        | 2/17 [01:02<07:46, 31.10s/it]\u001b[A"
     ]
    },
    {
     "name": "stdout",
     "output_type": "stream",
     "text": [
      "generating ../features/_2_5_item_brand_id_hour_CTR.pkl\n"
     ]
    },
    {
     "name": "stderr",
     "output_type": "stream",
     "text": [
      "\n",
      " 18%|█▊        | 3/17 [01:14<05:49, 24.96s/it]\u001b[A"
     ]
    },
    {
     "name": "stdout",
     "output_type": "stream",
     "text": [
      "generating ../features/_2_5_category2_label_hour_CTR.pkl\n"
     ]
    },
    {
     "name": "stderr",
     "output_type": "stream",
     "text": [
      "\n",
      " 24%|██▎       | 4/17 [01:28<04:48, 22.18s/it]\u001b[A"
     ]
    },
    {
     "name": "stdout",
     "output_type": "stream",
     "text": [
      "generating ../features/_2_5_category3_label_hour_CTR.pkl\n"
     ]
    },
    {
     "name": "stderr",
     "output_type": "stream",
     "text": [
      "\n",
      " 29%|██▉       | 5/17 [01:42<04:05, 20.44s/it]\u001b[A"
     ]
    },
    {
     "name": "stdout",
     "output_type": "stream",
     "text": [
      "generating ../features/_2_5_context_page_id_hour_CTR.pkl\n"
     ]
    },
    {
     "name": "stderr",
     "output_type": "stream",
     "text": [
      "\n",
      " 35%|███▌      | 6/17 [01:55<03:32, 19.33s/it]\u001b[A"
     ]
    },
    {
     "name": "stdout",
     "output_type": "stream",
     "text": [
      "generating ../features/_2_5_shop_id_hour_CTR.pkl\n"
     ]
    },
    {
     "name": "stderr",
     "output_type": "stream",
     "text": [
      "\n",
      " 41%|████      | 7/17 [02:10<03:06, 18.69s/it]\u001b[A"
     ]
    },
    {
     "name": "stdout",
     "output_type": "stream",
     "text": [
      "generating ../features/_2_5_item_sales_level_bin_hour_CTR.pkl\n"
     ]
    },
    {
     "name": "stderr",
     "output_type": "stream",
     "text": [
      "\n",
      " 47%|████▋     | 8/17 [02:22<02:39, 17.76s/it]\u001b[A"
     ]
    },
    {
     "name": "stdout",
     "output_type": "stream",
     "text": [
      "generating ../features/_2_5_item_price_level_bin_hour_CTR.pkl\n"
     ]
    },
    {
     "name": "stderr",
     "output_type": "stream",
     "text": [
      "\n",
      " 53%|█████▎    | 9/17 [02:31<02:14, 16.87s/it]\u001b[A"
     ]
    },
    {
     "name": "stdout",
     "output_type": "stream",
     "text": [
      "generating ../features/_2_5_item_collected_level_bin_hour_CTR.pkl\n"
     ]
    },
    {
     "name": "stderr",
     "output_type": "stream",
     "text": [
      "\n",
      " 59%|█████▉    | 10/17 [02:41<01:53, 16.15s/it]\u001b[A"
     ]
    },
    {
     "name": "stdout",
     "output_type": "stream",
     "text": [
      "generating ../features/_2_5_item_pv_level_bin_hour_CTR.pkl\n"
     ]
    },
    {
     "name": "stderr",
     "output_type": "stream",
     "text": [
      "\n",
      " 65%|██████▍   | 11/17 [02:51<01:33, 15.56s/it]\u001b[A"
     ]
    },
    {
     "name": "stdout",
     "output_type": "stream",
     "text": [
      "generating ../features/_2_5_shop_review_num_level_bin_hour_CTR.pkl\n"
     ]
    },
    {
     "name": "stderr",
     "output_type": "stream",
     "text": [
      "\n",
      " 71%|███████   | 12/17 [03:00<01:15, 15.06s/it]\u001b[A"
     ]
    },
    {
     "name": "stdout",
     "output_type": "stream",
     "text": [
      "generating ../features/_2_5_shop_review_positive_rate_bin_hour_CTR.pkl\n"
     ]
    },
    {
     "name": "stderr",
     "output_type": "stream",
     "text": [
      "\n",
      " 76%|███████▋  | 13/17 [03:09<00:58, 14.59s/it]\u001b[A"
     ]
    },
    {
     "name": "stdout",
     "output_type": "stream",
     "text": [
      "generating ../features/_2_5_shop_star_level_bin_hour_CTR.pkl\n"
     ]
    },
    {
     "name": "stderr",
     "output_type": "stream",
     "text": [
      "\n",
      " 82%|████████▏ | 14/17 [03:19<00:42, 14.23s/it]\u001b[A"
     ]
    },
    {
     "name": "stdout",
     "output_type": "stream",
     "text": [
      "generating ../features/_2_5_shop_score_service_bin_hour_CTR.pkl\n"
     ]
    },
    {
     "name": "stderr",
     "output_type": "stream",
     "text": [
      "\n",
      " 88%|████████▊ | 15/17 [03:28<00:27, 13.88s/it]\u001b[A"
     ]
    },
    {
     "name": "stdout",
     "output_type": "stream",
     "text": [
      "generating ../features/_2_5_shop_score_delivery_bin_hour_CTR.pkl\n"
     ]
    },
    {
     "name": "stderr",
     "output_type": "stream",
     "text": [
      "\n",
      " 94%|█████████▍| 16/17 [03:37<00:13, 13.59s/it]\u001b[A"
     ]
    },
    {
     "name": "stdout",
     "output_type": "stream",
     "text": [
      "generating ../features/_2_5_shop_score_description_bin_hour_CTR.pkl\n"
     ]
    },
    {
     "name": "stderr",
     "output_type": "stream",
     "text": [
      "\n",
      "100%|██████████| 17/17 [03:46<00:00, 13.33s/it]\u001b[A\n",
      "100%|██████████| 17/17 [05:52<00:00, 20.74s/it]  \n",
      "  0%|          | 0/1 [00:00<?, ?it/s]\n",
      "  0%|          | 0/7 [00:00<?, ?it/s]\u001b[A\n",
      "\n",
      "  0%|          | 0/1 [00:00<?, ?it/s]\u001b[A\u001b[A\n",
      "\n",
      "\n",
      "  0%|          | 0/7 [00:00<?, ?it/s]\u001b[A\u001b[A\u001b[A"
     ]
    },
    {
     "name": "stdout",
     "output_type": "stream",
     "text": [
      "generating ../features/_2_5_user_id_item_id_before_history_CTR.pkl\n"
     ]
    },
    {
     "name": "stderr",
     "output_type": "stream",
     "text": [
      "\n",
      "\n",
      "\n",
      " 14%|█▍        | 1/7 [00:45<04:30, 45.15s/it]\u001b[A\u001b[A\u001b[A"
     ]
    },
    {
     "name": "stdout",
     "output_type": "stream",
     "text": [
      "generating ../features/_2_5_user_id_item_brand_id_before_history_CTR.pkl\n"
     ]
    },
    {
     "name": "stderr",
     "output_type": "stream",
     "text": [
      "\n",
      "\n",
      "\n",
      " 29%|██▊       | 2/7 [01:21<03:23, 40.71s/it]\u001b[A\u001b[A\u001b[A"
     ]
    },
    {
     "name": "stdout",
     "output_type": "stream",
     "text": [
      "generating ../features/_2_5_user_id_category2_label_before_history_CTR.pkl\n"
     ]
    },
    {
     "name": "stderr",
     "output_type": "stream",
     "text": [
      "\n",
      "\n",
      "\n",
      " 43%|████▎     | 3/7 [01:55<02:34, 38.60s/it]\u001b[A\u001b[A\u001b[A"
     ]
    },
    {
     "name": "stdout",
     "output_type": "stream",
     "text": [
      "generating ../features/_2_5_user_id_category3_label_before_history_CTR.pkl\n"
     ]
    },
    {
     "name": "stderr",
     "output_type": "stream",
     "text": [
      "\n",
      "\n",
      "\n",
      " 57%|█████▋    | 4/7 [02:25<01:48, 36.31s/it]\u001b[A\u001b[A\u001b[A"
     ]
    },
    {
     "name": "stdout",
     "output_type": "stream",
     "text": [
      "generating ../features/_2_5_user_id_shop_id_before_history_CTR.pkl\n"
     ]
    },
    {
     "name": "stderr",
     "output_type": "stream",
     "text": [
      "\n",
      "\n",
      "\n",
      " 71%|███████▏  | 5/7 [03:09<01:15, 37.91s/it]\u001b[A\u001b[A\u001b[A"
     ]
    },
    {
     "name": "stdout",
     "output_type": "stream",
     "text": [
      "generating ../features/_2_5_user_id_item_sales_level_bin_before_history_CTR.pkl\n"
     ]
    },
    {
     "name": "stderr",
     "output_type": "stream",
     "text": [
      "\n",
      "\n",
      "\n",
      " 86%|████████▌ | 6/7 [03:44<00:37, 37.35s/it]\u001b[A\u001b[A\u001b[A"
     ]
    },
    {
     "name": "stdout",
     "output_type": "stream",
     "text": [
      "generating ../features/_2_5_user_id_item_price_level_bin_before_history_CTR.pkl\n"
     ]
    },
    {
     "name": "stderr",
     "output_type": "stream",
     "text": [
      "\n",
      "\n",
      "\n",
      "100%|██████████| 7/7 [04:16<00:00, 36.61s/it]\u001b[A\u001b[A\u001b[A\n",
      "\n",
      "\n",
      "\u001b[A\u001b[A\u001b[A\n",
      "\n",
      "100%|██████████| 1/1 [04:16<00:00, 256.31s/it]\u001b[A\u001b[A\n",
      "\n",
      "\u001b[A\u001b[A\n",
      " 14%|█▍        | 1/7 [04:54<29:24, 294.11s/it]\u001b[A\n",
      " 29%|██▊       | 2/7 [05:10<12:57, 155.49s/it]\u001b[A\n",
      " 43%|████▎     | 3/7 [05:24<07:13, 108.33s/it]\u001b[A"
     ]
    }
   ],
   "source": [
    "if __name__ =='__main__':\n",
    "\n",
    "    all_data = load_pickle(raw_data_path + 'all_data_4567.pkl')\n",
    "    \n",
    "\n",
    "    \n",
    "    all_data = add_29_smooth_ctr(all_data)\n",
    "    all_data = add_29_hour_ctr(all_data)\n",
    "    all_data = add_features_smooth_ctr(all_data)\n",
    "    all_data = add_features_hour_ctr(all_data) \n",
    "    all_data = add_features_cross_history_ctr(all_data)\n",
    "    all_data = add_features_cross_smooth_ctr(all_data)\n",
    "    \n",
    "    \n",
    "    \n",
    "    print(all_data.columns)  "
   ]
  },
  {
   "cell_type": "code",
   "execution_count": 11,
   "metadata": {},
   "outputs": [
    {
     "data": {
      "text/plain": [
       "index                                                            0\n",
       "instance_id                                                      0\n",
       "item_id                                                          0\n",
       "item_category_list                                               0\n",
       "item_property_list                                               0\n",
       "item_brand_id                                                    0\n",
       "item_city_id                                                     0\n",
       "item_price_level                                                 0\n",
       "item_sales_level                                                 0\n",
       "item_collected_level                                             0\n",
       "item_pv_level                                                    0\n",
       "user_id                                                          0\n",
       "user_gender_id                                                   0\n",
       "user_age_level                                                   0\n",
       "user_occupation_id                                               0\n",
       "user_star_level                                                  0\n",
       "context_id                                                       0\n",
       "context_timestamp                                                0\n",
       "context_page_id                                                  0\n",
       "predict_category_property                                        0\n",
       "shop_id                                                          0\n",
       "shop_review_num_level                                            0\n",
       "shop_review_positive_rate                                        0\n",
       "shop_star_level                                                  0\n",
       "shop_score_service                                               0\n",
       "shop_score_delivery                                              0\n",
       "shop_score_description                                           0\n",
       "is_trade                                                         0\n",
       "day                                                              0\n",
       "hour                                                             0\n",
       "minute                                                           0\n",
       "category2_label                                                  0\n",
       "category3_label                                                  0\n",
       "user_gender_id_item_price_level                                  0\n",
       "user_gender_id_item_sales_level                                  0\n",
       "user_gender_id_shop_star_level                                   0\n",
       "user_gender_id_shop_review_num_level                             0\n",
       "user_gender_id_shop_review_positive_rate                         0\n",
       "user_gender_id_category2_label                                   0\n",
       "user_gender_id_category3_label                                   0\n",
       "user_gender_id_context_page_id                                   0\n",
       "user_gender_id_hour                                              0\n",
       "user_age_level_item_price_level                                  0\n",
       "user_age_level_item_sales_level                                  0\n",
       "user_age_level_shop_star_level                                   0\n",
       "user_age_level_shop_review_num_level                             0\n",
       "user_age_level_shop_review_positive_rate                         0\n",
       "user_age_level_category2_label                                   0\n",
       "user_age_level_category3_label                                   0\n",
       "user_age_level_context_page_id                                   0\n",
       "user_age_level_hour                                              0\n",
       "user_occupation_id_item_price_level                              0\n",
       "user_occupation_id_item_sales_level                              0\n",
       "user_occupation_id_shop_star_level                               0\n",
       "user_occupation_id_shop_review_num_level                         0\n",
       "user_occupation_id_shop_review_positive_rate                     0\n",
       "user_occupation_id_category2_label                               0\n",
       "user_occupation_id_category3_label                               0\n",
       "user_occupation_id_context_page_id                               0\n",
       "user_occupation_id_hour                                          0\n",
       "user_star_level_item_price_level                                 0\n",
       "user_star_level_item_sales_level                                 0\n",
       "user_star_level_shop_star_level                                  0\n",
       "user_star_level_shop_review_num_level                            0\n",
       "user_star_level_shop_review_positive_rate                        0\n",
       "user_star_level_category2_label                                  0\n",
       "user_star_level_category3_label                                  0\n",
       "user_star_level_context_page_id                                  0\n",
       "user_star_level_hour                                             0\n",
       "user_gender_id_user_age_level                                    0\n",
       "user_gender_id_user_occupation_id                                0\n",
       "user_gender_id_user_star_level                                   0\n",
       "user_age_level_user_occupation_id                                0\n",
       "user_age_level_user_star_level                                   0\n",
       "user_occupation_id_user_star_level                               0\n",
       "item_price_level_bin                                             0\n",
       "item_sales_level_bin                                             0\n",
       "item_collected_level_bin                                         0\n",
       "item_pv_level_bin                                                0\n",
       "shop_review_num_level_bin                                        0\n",
       "shop_review_positive_rate_bin                                    0\n",
       "shop_star_level_bin                                              0\n",
       "shop_score_service_bin                                           0\n",
       "shop_score_delivery_bin                                          0\n",
       "shop_score_description_bin                                       0\n",
       "hour_bin                                                         0\n",
       "item_property_topic_k_10                                         0\n",
       "user_gender_id_item_price_level_smooth_CTR                       0\n",
       "user_gender_id_item_sales_level_smooth_CTR                       0\n",
       "user_gender_id_shop_star_level_smooth_CTR                        0\n",
       "user_gender_id_shop_review_num_level_smooth_CTR                  0\n",
       "user_gender_id_shop_review_positive_rate_smooth_CTR              0\n",
       "user_gender_id_category2_label_smooth_CTR                        0\n",
       "user_gender_id_category3_label_smooth_CTR                        2\n",
       "user_age_level_item_price_level_smooth_CTR                       0\n",
       "user_age_level_item_sales_level_smooth_CTR                       0\n",
       "user_age_level_shop_star_level_smooth_CTR                        0\n",
       "user_age_level_shop_review_num_level_smooth_CTR                  0\n",
       "user_age_level_shop_review_positive_rate_smooth_CTR              0\n",
       "user_age_level_category2_label_smooth_CTR                        0\n",
       "user_age_level_category3_label_smooth_CTR                        3\n",
       "user_occupation_id_item_price_level_smooth_CTR                   0\n",
       "user_occupation_id_item_sales_level_smooth_CTR                   0\n",
       "user_occupation_id_shop_star_level_smooth_CTR                    0\n",
       "user_occupation_id_shop_review_num_level_smooth_CTR              0\n",
       "user_occupation_id_shop_review_positive_rate_smooth_CTR          0\n",
       "user_occupation_id_category2_label_smooth_CTR                    0\n",
       "user_occupation_id_category3_label_smooth_CTR                    1\n",
       "user_star_level_item_price_level_smooth_CTR                      0\n",
       "user_star_level_item_sales_level_smooth_CTR                      0\n",
       "user_star_level_shop_star_level_smooth_CTR                       0\n",
       "user_star_level_shop_review_num_level_smooth_CTR                 0\n",
       "user_star_level_shop_review_positive_rate_smooth_CTR             0\n",
       "user_star_level_category2_label_smooth_CTR                       0\n",
       "user_star_level_category3_label_smooth_CTR                       1\n",
       "user_gender_id_user_age_level_smooth_CTR                         0\n",
       "user_gender_id_user_occupation_id_smooth_CTR                     0\n",
       "user_gender_id_user_star_level_smooth_CTR                        0\n",
       "user_age_level_user_occupation_id_smooth_CTR                     0\n",
       "user_age_level_user_star_level_smooth_CTR                        0\n",
       "user_occupation_id_user_star_level_smooth_CTR                    0\n",
       "user_gender_id_item_price_level_hour_CTR                         0\n",
       "user_gender_id_item_sales_level_hour_CTR                         0\n",
       "user_gender_id_shop_star_level_hour_CTR                          0\n",
       "user_gender_id_shop_review_num_level_hour_CTR                    0\n",
       "user_gender_id_shop_review_positive_rate_hour_CTR                0\n",
       "user_gender_id_category2_label_hour_CTR                          8\n",
       "user_gender_id_category3_label_hour_CTR                        146\n",
       "user_age_level_item_price_level_hour_CTR                         0\n",
       "user_age_level_item_sales_level_hour_CTR                         0\n",
       "user_age_level_shop_star_level_hour_CTR                          0\n",
       "user_age_level_shop_review_num_level_hour_CTR                    0\n",
       "user_age_level_shop_review_positive_rate_hour_CTR                0\n",
       "user_age_level_category2_label_hour_CTR                          4\n",
       "user_age_level_category3_label_hour_CTR                        180\n",
       "user_occupation_id_item_price_level_hour_CTR                     0\n",
       "user_occupation_id_item_sales_level_hour_CTR                     0\n",
       "user_occupation_id_shop_star_level_hour_CTR                      7\n",
       "user_occupation_id_shop_review_num_level_hour_CTR                7\n",
       "user_occupation_id_shop_review_positive_rate_hour_CTR            0\n",
       "user_occupation_id_category2_label_hour_CTR                     50\n",
       "user_occupation_id_category3_label_hour_CTR                    247\n",
       "user_star_level_item_price_level_hour_CTR                        0\n",
       "user_star_level_item_sales_level_hour_CTR                        0\n",
       "user_star_level_shop_star_level_hour_CTR                         7\n",
       "user_star_level_shop_review_num_level_hour_CTR                   7\n",
       "user_star_level_shop_review_positive_rate_hour_CTR               0\n",
       "user_star_level_category2_label_hour_CTR                        46\n",
       "user_star_level_category3_label_hour_CTR                       226\n",
       "user_gender_id_user_age_level_hour_CTR                          11\n",
       "user_gender_id_user_occupation_id_hour_CTR                       0\n",
       "user_gender_id_user_star_level_hour_CTR                          0\n",
       "user_age_level_user_occupation_id_hour_CTR                       0\n",
       "user_age_level_user_star_level_hour_CTR                          0\n",
       "user_occupation_id_user_star_level_hour_CTR                      0\n",
       "user_id_smooth_I                                                 0\n",
       "user_id_smooth_C                                                 0\n",
       "user_id_smooth_CTR                                         1979105\n",
       "item_id_smooth_I                                                 0\n",
       "item_id_smooth_C                                                 0\n",
       "item_id_smooth_CTR                                           39266\n",
       "item_brand_id_smooth_I                                           0\n",
       "item_brand_id_smooth_C                                           0\n",
       "item_brand_id_smooth_CTR                                      6850\n",
       "category2_label_smooth_I                                         0\n",
       "category2_label_smooth_C                                         0\n",
       "category2_label_smooth_CTR                                       0\n",
       "category3_label_smooth_I                                         0\n",
       "category3_label_smooth_C                                         0\n",
       "category3_label_smooth_CTR                                       1\n",
       "context_page_id_smooth_I                                         0\n",
       "context_page_id_smooth_C                                         0\n",
       "context_page_id_smooth_CTR                                       0\n",
       "shop_id_smooth_I                                                 0\n",
       "shop_id_smooth_C                                                 0\n",
       "shop_id_smooth_CTR                                           14434\n",
       "item_sales_level_bin_smooth_I                                    0\n",
       "item_sales_level_bin_smooth_C                                    0\n",
       "item_sales_level_bin_smooth_CTR                                  0\n",
       "item_price_level_bin_smooth_I                                    0\n",
       "item_price_level_bin_smooth_C                                    0\n",
       "item_price_level_bin_smooth_CTR                                  0\n",
       "hour_smooth_I                                                    0\n",
       "hour_smooth_C                                                    0\n",
       "hour_smooth_CTR                                                  0\n",
       "user_id_item_id_history_I                                        0\n",
       "user_id_item_id_history_C                                        0\n",
       "user_id_item_id_history_CTR                                3440621\n",
       "user_id_item_brand_id_history_I                                  0\n",
       "user_id_item_brand_id_history_C                                  0\n",
       "user_id_item_brand_id_history_CTR                          3294339\n",
       "user_id_category2_label_history_I                                0\n",
       "user_id_category2_label_history_C                                0\n",
       "user_id_category2_label_history_CTR                        2898352\n",
       "user_id_category3_label_history_I                                0\n",
       "user_id_category3_label_history_C                                0\n",
       "user_id_category3_label_history_CTR                        2529651\n",
       "user_id_shop_id_history_I                                        0\n",
       "user_id_shop_id_history_C                                        0\n",
       "user_id_shop_id_history_CTR                                3399902\n",
       "user_id_item_sales_level_bin_history_I                           0\n",
       "user_id_item_sales_level_bin_history_C                           0\n",
       "user_id_item_sales_level_bin_history_CTR                   2836464\n",
       "user_id_item_price_level_bin_history_I                           0\n",
       "user_id_item_price_level_bin_history_C                           0\n",
       "user_id_item_price_level_bin_history_CTR                   2565573\n",
       "user_gender_id_shop_id_smooth_I                              21665\n",
       "user_gender_id_shop_id_smooth_C                              21665\n",
       "user_gender_id_shop_id_smooth_CTR                            21665\n",
       "user_gender_id_item_id_smooth_I                              61870\n",
       "user_gender_id_item_id_smooth_C                              61870\n",
       "user_gender_id_item_id_smooth_CTR                            61870\n",
       "user_gender_id_item_brand_id_smooth_I                        10717\n",
       "user_gender_id_item_brand_id_smooth_C                        10717\n",
       "user_gender_id_item_brand_id_smooth_CTR                      10717\n",
       "user_age_level_shop_id_smooth_I                              31034\n",
       "user_age_level_shop_id_smooth_C                              31034\n",
       "user_age_level_shop_id_smooth_CTR                            31034\n",
       "user_age_level_item_id_smooth_I                              88287\n",
       "user_age_level_item_id_smooth_C                              88287\n",
       "user_age_level_item_id_smooth_CTR                            88287\n",
       "user_age_level_item_brand_id_smooth_I                        15427\n",
       "user_age_level_item_brand_id_smooth_C                        15427\n",
       "user_age_level_item_brand_id_smooth_CTR                      15427\n",
       "user_occupation_id_shop_id_smooth_I                          22414\n",
       "user_occupation_id_shop_id_smooth_C                          22414\n",
       "user_occupation_id_shop_id_smooth_CTR                        22414\n",
       "user_occupation_id_item_id_smooth_I                          63285\n",
       "user_occupation_id_item_id_smooth_C                          63285\n",
       "user_occupation_id_item_id_smooth_CTR                        63285\n",
       "user_occupation_id_item_brand_id_smooth_I                    11347\n",
       "user_occupation_id_item_brand_id_smooth_C                    11347\n",
       "user_occupation_id_item_brand_id_smooth_CTR                  11347\n",
       "user_star_level_shop_id_smooth_I                             35696\n",
       "user_star_level_shop_id_smooth_C                             35696\n",
       "user_star_level_shop_id_smooth_CTR                           35696\n",
       "user_star_level_item_id_smooth_I                            106658\n",
       "user_star_level_item_id_smooth_C                            106658\n",
       "user_star_level_item_id_smooth_CTR                          106658\n",
       "user_star_level_item_brand_id_smooth_I                       17956\n",
       "user_star_level_item_brand_id_smooth_C                       17956\n",
       "user_star_level_item_brand_id_smooth_CTR                     17956\n",
       "dtype: int64"
      ]
     },
     "execution_count": 11,
     "metadata": {},
     "output_type": "execute_result"
    }
   ],
   "source": [
    "pd.set_option('display.max_rows', None)\n",
    "data = all_data[(all_data.day==7)|(all_data.day==6)]\n",
    "data.isnull().sum()"
   ]
  },
  {
   "cell_type": "code",
   "execution_count": null,
   "metadata": {
    "collapsed": true
   },
   "outputs": [],
   "source": []
  }
 ],
 "metadata": {
  "kernelspec": {
   "display_name": "Python 3",
   "language": "python",
   "name": "python3"
  },
  "language_info": {
   "codemirror_mode": {
    "name": "ipython",
    "version": 3
   },
   "file_extension": ".py",
   "mimetype": "text/x-python",
   "name": "python",
   "nbconvert_exporter": "python",
   "pygments_lexer": "ipython3",
   "version": "3.6.4"
  }
 },
 "nbformat": 4,
 "nbformat_minor": 2
}
