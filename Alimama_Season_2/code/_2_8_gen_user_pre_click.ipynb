{
 "cells": [
  {
   "cell_type": "code",
   "execution_count": 2,
   "metadata": {},
   "outputs": [],
   "source": [
    "import os\n",
    "import pickle\n",
    "import gc\n",
    "import pandas as pd\n",
    "import numpy as np\n",
    "from tqdm import tqdm\n",
    "from utils import load_pickle, dump_pickle, raw_data_path, feature_data_path"
   ]
  },
  {
   "cell_type": "code",
   "execution_count": 3,
   "metadata": {},
   "outputs": [],
   "source": [
    "pre_user_id = None\n",
    "pre_feature = None\n",
    "continue_cnt = 0 \n",
    "\n",
    "def get_user_feature_pre_click(row, feature):\n",
    "    \n",
    "    global pre_user_id\n",
    "    global pre_feature\n",
    "    global continue_cnt\n",
    "    \n",
    "    if row['user_id'] == pre_user_id: \n",
    "        if row[feature] == pre_feature:\n",
    "            # 该用户当前点击与上次一样的feature\n",
    "            continue_cnt += 1\n",
    "            return 1\n",
    "        else:\n",
    "            # 记录用户当前点击的物品\n",
    "            pre_feature = row[feature]\n",
    "            return 0\n",
    "    \n",
    "    else:\n",
    "        # 上一个用户已经计算完成\n",
    "        pre_user_id = row['user_id']\n",
    "        pre_feature = row[feature]\n",
    "        return 0\n",
    "    \n",
    "def get_user_feature_continue_click(row, feature):\n",
    "    \n",
    "    global pre_user_id\n",
    "    global pre_feature\n",
    "    global continue_cnt\n",
    "    \n",
    "    if row['user_id'] == pre_user_id: \n",
    "        if row[feature] == pre_feature:\n",
    "            # 该用户当前点击与上次一样的feature\n",
    "            continue_cnt += 1\n",
    "            return continue_cnt\n",
    "        else:\n",
    "            # 记录用户当前点击的物品\n",
    "            pre_feature = row[feature]\n",
    "            continue_cnt = 1\n",
    "            return continue_cnt\n",
    "    \n",
    "    else:\n",
    "        # 上一个用户已经计算完成\n",
    "        pre_user_id = row['user_id']\n",
    "        pre_feature = row[feature]\n",
    "        continue_cnt = 1\n",
    "        return continue_cnt\n",
    "\n",
    "\n",
    "def gen_user_feature_pre_click(update=True):\n",
    "    '''用户当前点击与上次一样的feature\n",
    "\n",
    "    file_name: user_feature_pre_click.pkl\n",
    "\n",
    "    features:\n",
    "        'user_item_id_pre_click', 'user_item_brand_id_pre_click',\n",
    "        'user_shop_id_pre_click', 'user_category2_label_pre_click',\n",
    "\n",
    "    '''\n",
    "\n",
    "    all_data = load_pickle(raw_data_path + 'all_data_4567.pkl')\n",
    "    feature_list = ['item_id', 'item_brand_id', 'shop_id', 'category2_label', 'category3_label',\n",
    "                    'item_property_topic_k_15',\n",
    "                    'item_sales_level_bin', 'item_price_level_bin']\n",
    "\n",
    "    for feature in tqdm(feature_list):\n",
    "\n",
    "        feature_path = feature_data_path +'_2_8'+ 'user_'+feature+'_pre_click.pkl'\n",
    "\n",
    "        if os.path.exists(feature_path):\n",
    "            print('found '+feature_path)\n",
    "        else:\n",
    "            print('generating '+feature_path)\n",
    "\n",
    "            pre_click_feature_name = 'user_' + feature + '_pre_click'\n",
    "            continue_click_feature_name = 'user_' + feature + '_continue_click'\n",
    "            \n",
    "\n",
    "            # 用户点击时间戳排序\n",
    "            sorted_data = all_data.sort_values(\n",
    "                by=['user_id', 'context_timestamp'], ascending=True)[['user_id', feature, 'context_timestamp']]\n",
    "            \n",
    "            sorted_data[pre_click_feature_name] = sorted_data.apply(lambda row: get_user_feature_pre_click(row, feature), axis=1)\n",
    "            sorted_data[continue_click_feature_name] = sorted_data.apply(lambda row: get_user_feature_continue_click(row, feature), axis=1)\n",
    "            \n",
    "            sorted_data = sorted_data[[pre_click_feature_name, continue_click_feature_name]]\n",
    "            \n",
    "            dump_pickle(sorted_data, feature_path)\n",
    "\n",
    "\n",
    "def add_user_feature_pre_click(data):\n",
    "\n",
    "\n",
    "    feature_list = ['item_id', 'item_brand_id', 'shop_id', 'category2_label', 'category3_label',\n",
    "                    'item_property_topic_k_15',\n",
    "                    'item_sales_level_bin', 'item_price_level_bin']\n",
    "\n",
    "    for feature in tqdm(feature_list):\n",
    "        feature_path = feature_data_path +'_2_8'+ 'user_'+feature+'_pre_click.pkl'\n",
    "        if not os.path.exists(feature_path):\n",
    "            gen_user_feature_pre_click()\n",
    "        user_feature_pre_click = load_pickle(feature_path)\n",
    "        data = data.join(user_feature_pre_click)\n",
    "\n",
    "    return data\n"
   ]
  },
  {
   "cell_type": "markdown",
   "metadata": {},
   "source": [
    "# user click interval"
   ]
  },
  {
   "cell_type": "code",
   "execution_count": 4,
   "metadata": {
    "scrolled": false
   },
   "outputs": [
    {
     "name": "stderr",
     "output_type": "stream",
     "text": [
      "  0%|          | 0/8 [00:00<?, ?it/s]/home/qwc/anaconda3/lib/python3.6/site-packages/tqdm/_monitor.py:89: TqdmSynchronisationWarning: Set changed size during iteration (see https://github.com/tqdm/tqdm/issues/481)\n",
      "  TqdmSynchronisationWarning)\n",
      " 62%|██████▎   | 5/8 [01:44<01:02, 20.92s/it]\n",
      "  0%|          | 0/8 [00:00<?, ?it/s]\u001b[A"
     ]
    },
    {
     "name": "stdout",
     "output_type": "stream",
     "text": [
      "found ../features/_2_8user_item_id_pre_click.pkl\n",
      "found ../features/_2_8user_item_brand_id_pre_click.pkl\n",
      "found ../features/_2_8user_shop_id_pre_click.pkl\n",
      "found ../features/_2_8user_category2_label_pre_click.pkl\n",
      "found ../features/_2_8user_category3_label_pre_click.pkl\n",
      "generating ../features/_2_8user_item_property_topic_k_15_pre_click.pkl\n"
     ]
    },
    {
     "name": "stderr",
     "output_type": "stream",
     "text": [
      "\n",
      " 75%|███████▌  | 6/8 [07:14<02:24, 72.41s/it]\u001b[A\n",
      "100%|██████████| 8/8 [07:14<00:00, 54.31s/it]\u001b[A"
     ]
    },
    {
     "name": "stdout",
     "output_type": "stream",
     "text": [
      "found ../features/_2_8user_item_sales_level_bin_pre_click.pkl\n",
      "found ../features/_2_8user_item_price_level_bin_pre_click.pkl\n"
     ]
    },
    {
     "name": "stderr",
     "output_type": "stream",
     "text": [
      "100%|██████████| 8/8 [11:04<00:00, 83.04s/it] \n"
     ]
    }
   ],
   "source": [
    "if __name__ =='__main__':\n",
    "    all_data = load_pickle(raw_data_path + 'all_data_4567.pkl')\n",
    "\n",
    "    all_data = add_user_feature_pre_click(all_data)"
   ]
  },
  {
   "cell_type": "code",
   "execution_count": null,
   "metadata": {},
   "outputs": [],
   "source": [
    "pd.set_option('display.max_rows', None)\n",
    "all_data.isnull().sum()"
   ]
  },
  {
   "cell_type": "code",
   "execution_count": 6,
   "metadata": {},
   "outputs": [
    {
     "data": {
      "text/plain": [
       "6    1934443\n",
       "7    1597063\n",
       "5    1200219\n",
       "4    1157641\n",
       "Name: day, dtype: int64"
      ]
     },
     "execution_count": 6,
     "metadata": {},
     "output_type": "execute_result"
    }
   ],
   "source": [
    "all_data.day.value_counts()"
   ]
  },
  {
   "cell_type": "code",
   "execution_count": null,
   "metadata": {
    "collapsed": true
   },
   "outputs": [],
   "source": []
  }
 ],
 "metadata": {
  "kernelspec": {
   "display_name": "Python 3",
   "language": "python",
   "name": "python3"
  },
  "language_info": {
   "codemirror_mode": {
    "name": "ipython",
    "version": 3
   },
   "file_extension": ".py",
   "mimetype": "text/x-python",
   "name": "python",
   "nbconvert_exporter": "python",
   "pygments_lexer": "ipython3",
   "version": "3.6.4"
  }
 },
 "nbformat": 4,
 "nbformat_minor": 2
}
