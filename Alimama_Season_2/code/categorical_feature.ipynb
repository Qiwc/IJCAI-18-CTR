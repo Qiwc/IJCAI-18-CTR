{
 "cells": [
  {
   "cell_type": "code",
   "execution_count": 7,
   "metadata": {},
   "outputs": [
    {
     "data": {
      "text/plain": [
       "1"
      ]
     },
     "execution_count": 7,
     "metadata": {},
     "output_type": "execute_result"
    }
   ],
   "source": [
    "categorical_feature = [\n",
    "\n",
    "    \n",
    "    'day',\n",
    "#     'user_gender_id',\n",
    "#     'user_occupation_id',\n",
    "    #             'category2_label',\n",
    "    #             'category3_label',\n",
    "\n",
    "\n",
    "#     'user_click_rank_day',\n",
    "#     'user_category2_label_click_rank_day',\n",
    "#     'user_category3_label_click_rank_day',\n",
    "#     'user_shop_id_click_rank_day',\n",
    "#     'user_item_id_click_rank_day',\n",
    "#     'user_item_brand_id_click_rank_day',\n",
    "    \n",
    "#     'user_click_rank_global',\n",
    "#     'user_category2_label_click_rank_global',\n",
    "#     'user_category3_label_click_rank_global',\n",
    "#     'user_shop_id_click_rank_global',\n",
    "#     'user_item_id_click_rank_global',\n",
    "#     'user_item_brand_id_click_rank_global',\n",
    "\n",
    "\n",
    "#     'item_property_topic_k_15',\n",
    "#     'category_predict_rank',\n",
    "\n",
    "    \n",
    "    \n",
    "#         'user_gender_id_day',\n",
    "#         'user_age_level_day',\n",
    "#         'user_occupation_id_day',\n",
    "\n",
    "#         'user_gender_id_user_age_level_day',\n",
    "#         'user_gender_id_user_occupation_id_day',\n",
    "#         'user_age_level_user_occupation_id_day',\n",
    "    \n",
    "#         'user_gender_id_user_age_level_day',\n",
    "#         'user_gender_id_user_occupation_id_day',\n",
    "#         'user_age_level_user_occupation_id_day',\n",
    "]\n",
    "len(categorical_feature)"
   ]
  },
  {
   "cell_type": "code",
   "execution_count": 8,
   "metadata": {},
   "outputs": [],
   "source": [
    "from utils import load_pickle, dump_pickle, raw_data_path, feature_data_path\n",
    "dump_pickle(categorical_feature, 'categorical_feature.pkl')"
   ]
  },
  {
   "cell_type": "code",
   "execution_count": null,
   "metadata": {
    "collapsed": true
   },
   "outputs": [],
   "source": []
  }
 ],
 "metadata": {
  "kernelspec": {
   "display_name": "Python 3",
   "language": "python",
   "name": "python3"
  },
  "language_info": {
   "codemirror_mode": {
    "name": "ipython",
    "version": 3
   },
   "file_extension": ".py",
   "mimetype": "text/x-python",
   "name": "python",
   "nbconvert_exporter": "python",
   "pygments_lexer": "ipython3",
   "version": "3.6.4"
  }
 },
 "nbformat": 4,
 "nbformat_minor": 2
}
