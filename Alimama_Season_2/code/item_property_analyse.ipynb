{
 "cells": [
  {
   "cell_type": "code",
   "execution_count": 3,
   "metadata": {},
   "outputs": [],
   "source": [
    "import os\n",
    "import pickle\n",
    "import pandas as pd\n",
    "import numpy as np\n",
    "import time\n",
    "from utils import raw_data_path, feature_data_path,result_path,model_path,cache_pkl_path,dump_pickle,load_pickle"
   ]
  },
  {
   "cell_type": "code",
   "execution_count": 2,
   "metadata": {
    "collapsed": true
   },
   "outputs": [],
   "source": [
    "all_data = load_pickle(raw_data_path + 'all_data_6_7.pkl')"
   ]
  },
  {
   "cell_type": "code",
   "execution_count": 3,
   "metadata": {
    "collapsed": true
   },
   "outputs": [],
   "source": [
    "from sklearn.feature_extraction.text import CountVectorizer\n",
    "import lda\n",
    "\n",
    "def get_item_property_doc(item_category_list, item_property_list):\n",
    "    item_category_list = [category for category in item_category_list.split(\";\") if category != '-1']\n",
    "    item_property_list = [item_property for item_property in item_property_list.split(\";\") if item_property != '-1']\n",
    "    item_category_list = item_category_list\n",
    "    item_property_list = item_property_list[:10]\n",
    "    doc = list()\n",
    "    for item_category in item_category_list:\n",
    "        doc.append('c_' + item_category)\n",
    "    for item_property in item_property_list:\n",
    "        doc.append(item_property)\n",
    "    return ';'.join(doc)\n",
    "\n",
    "    \n",
    "def get_predict_property_doc(item_category_list, predict_category_property_list):\n",
    "\n",
    "    doc = list()\n",
    "#     只取前五个预测类别\n",
    "    for predict_category_property in predict_category_property_list.split(\";\")[:5]:\n",
    "        if predict_category_property != '-1':\n",
    "            category = predict_category_property.split(\":\")[0]\n",
    "            if category != -1:\n",
    "                doc.append('c_' + category)\n",
    "            property_list = predict_category_property.split(\":\")[1]\n",
    "            if property_list != -1:\n",
    "                for item_property in property_list.split(','):\n",
    "                    doc.append(item_property)\n",
    "    return ';'.join(doc)\n",
    "\n",
    "def category_property_iter():\n",
    "    for item_property_doc in all_data['item_property_doc']:\n",
    "        yield item_property_doc\n",
    "        \n",
    "    for predict_category_property_doc in all_data['predict_property_doc']:\n",
    "        yield predict_category_property_doc\n"
   ]
  },
  {
   "cell_type": "code",
   "execution_count": 4,
   "metadata": {},
   "outputs": [
    {
     "name": "stdout",
     "output_type": "stream",
     "text": [
      "-----read all data-----\n",
      "Shape of item_property Count Vector: (3531506, 38099)\n",
      "Shape of predict_property Count Vector: (3531506, 38099)\n"
     ]
    }
   ],
   "source": [
    "print('-----read all data-----')\n",
    "    \n",
    "\n",
    "def split(s):\n",
    "    return s.split(';')\n",
    "\n",
    "all_data['item_property_doc'] = all_data.apply(lambda row: get_item_property_doc(row['item_category_list'], row['item_property_list']), axis=1)\n",
    "all_data['predict_property_doc'] = all_data.apply(lambda row: get_predict_property_doc(row['item_category_list'], row['predict_category_property']), axis=1)\n",
    "\n",
    "\n",
    "cv = CountVectorizer(analyzer=split)\n",
    "cv.fit(category_property_iter())\n",
    "count_vector_item_property = cv.transform(all_data['item_property_doc'])\n",
    "count_vector_predict_property = cv.transform(all_data['predict_property_doc'])\n",
    "\n",
    "print('Shape of item_property Count Vector: {}'.format(count_vector_item_property.shape))\n",
    "print('Shape of predict_property Count Vector: {}'.format(count_vector_predict_property.shape))"
   ]
  },
  {
   "cell_type": "code",
   "execution_count": 7,
   "metadata": {
    "collapsed": true
   },
   "outputs": [],
   "source": [
    "dump_pickle(count_vector_item_property, model_path + 'count_vector_item_property.pkl')\n",
    "dump_pickle(count_vector_predict_property, model_path + 'count_vector_predict_property.pkl')"
   ]
  },
  {
   "cell_type": "code",
   "execution_count": null,
   "metadata": {
    "collapsed": true
   },
   "outputs": [],
   "source": [
    "k = 30\n",
    "\n",
    "lda_model = lda.LDA(n_topics=k, n_iter=1000, random_state=1, refresh=20)\n",
    "lda_model.fit(count_vector)\n",
    "\n",
    "dump_pickle(lda_model, model_path + 'lda_model_test_0428.pkl')"
   ]
  },
  {
   "cell_type": "code",
   "execution_count": 4,
   "metadata": {},
   "outputs": [
    {
     "data": {
      "text/plain": [
       "[<matplotlib.lines.Line2D at 0x7fc8e9172278>]"
      ]
     },
     "execution_count": 4,
     "metadata": {},
     "output_type": "execute_result"
    },
    {
     "data": {
      "image/png": "[encoded data removed]",
      "text/plain": [
       "<matplotlib.figure.Figure at 0x7fc8f19a8550>"
      ]
     },
     "metadata": {},
     "output_type": "display_data"
    }
   ],
   "source": [
    "%matplotlib inline\n",
    "import matplotlib as mpl\n",
    "mpl.rcParams['figure.dpi'] = 120\n",
    "import matplotlib.pyplot as plt\n",
    "\n",
    "lda_model = load_pickle(model_path + '4567_item_property_lda_model_k_15.pkl')\n",
    "plt.plot(lda_model.loglikelihoods_[5:])"
   ]
  },
  {
   "cell_type": "code",
   "execution_count": 9,
   "metadata": {},
   "outputs": [
    {
     "name": "stdout",
     "output_type": "stream",
     "text": [
      "Shape of Topic Distributions: (3531506, 30)\n"
     ]
    }
   ],
   "source": [
    "data = all_data\n",
    "\n",
    "lda_model = load_pickle(model_path + 'lda_model_test_0428.pkl')\n",
    "\n",
    "k = 30\n",
    "topic_vector = lda_model.doc_topic_\n",
    "\n",
    "# topic = topic_vector.argmax(axis=1)\n",
    "# topic = pd.Series(topic)\n",
    "\n",
    "topic_vector = pd.DataFrame(topic_vector)\n",
    "for i in range(k):\n",
    "    topic_vector.rename(columns={i: 'item_property_topic_' + str(i)}, inplace=True)\n",
    "print('Shape of Topic Distributions: {}'.format(topic_vector.shape))\n",
    "\n",
    "# data = pd.concat([data, topic_vector, topic], axis=1)\n",
    "# data.rename(columns={0: 'item_property_topic'}, inplace=True)\n",
    "\n",
    "dump_pickle(topic_vector, model_path + 'topic_vector_k_30.pkl')"
   ]
  },
  {
   "cell_type": "code",
   "execution_count": 3,
   "metadata": {},
   "outputs": [
    {
     "name": "stderr",
     "output_type": "stream",
     "text": [
      "WARNING:lda:all zero column in document-term matrix found\n"
     ]
    },
    {
     "name": "stdout",
     "output_type": "stream",
     "text": [
      "(3531506, 38099) (3531506, 38099)\n"
     ]
    },
    {
     "data": {
      "text/plain": [
       "(100, 30)"
      ]
     },
     "execution_count": 3,
     "metadata": {},
     "output_type": "execute_result"
    }
   ],
   "source": [
    "lda_model = load_pickle(model_path + 'lda_model_test_0428.pkl')\n",
    "\n",
    "count_vector_item_property = load_pickle(model_path + 'count_vector_item_property.pkl')\n",
    "count_vector_predict_property = load_pickle(model_path + 'count_vector_predict_property.pkl')\n",
    "\n",
    "print(count_vector_item_property.shape, count_vector_predict_property.shape)"
   ]
  },
  {
   "cell_type": "code",
   "execution_count": null,
   "metadata": {},
   "outputs": [
    {
     "name": "stderr",
     "output_type": "stream",
     "text": [
      "WARNING:lda:all zero column in document-term matrix found\n"
     ]
    }
   ],
   "source": [
    "doc_topic_predict = lda_model.transform(count_vector_predict_property)\n",
    "doc_topic_predict.shape"
   ]
  },
  {
   "cell_type": "code",
   "execution_count": null,
   "metadata": {
    "collapsed": true
   },
   "outputs": [],
   "source": [
    "dump_pickle(doc_topic_predict, model_path + 'doc_topic_predict.pkl')"
   ]
  },
  {
   "cell_type": "code",
   "execution_count": null,
   "metadata": {
    "collapsed": true
   },
   "outputs": [],
   "source": [
    "from utils import extract_ctr\n",
    "extract_ctr(data[(data.is_trade != -1) & (data.day == 7)], feature='item_property_topic', alias='feature_ctr')"
   ]
  },
  {
   "cell_type": "markdown",
   "metadata": {
    "heading_collapsed": true
   },
   "source": [
    "## 没用"
   ]
  },
  {
   "cell_type": "code",
   "execution_count": 37,
   "metadata": {
    "hidden": true
   },
   "outputs": [
    {
     "data": {
      "text/plain": [
       "2912"
      ]
     },
     "execution_count": 37,
     "metadata": {},
     "output_type": "execute_result"
    }
   ],
   "source": [
    "def f(s, x):\n",
    "    s[len(str(x).split(';'))] += 1\n",
    "\n",
    "def c(x):\n",
    "    global cnt\n",
    "    cnt += len(str(x).split(';')[:10])\n",
    "    \n",
    "\n",
    "# s = [0 for _ in range(1000)]\n",
    "\n",
    "\n",
    "# le.fit(list(interest_set))\n",
    "\n",
    "s = set()\n",
    "\n",
    "cnt = 0\n",
    "all_data.item_property_list.apply(lambda x: s.update(x.split(';')[:10])) \n",
    "# train_data.item_property_list.apply(lambda x: s.add(len(str(x).split(';')))) \n",
    "# data.item_property_list.apply(lambda x: f(s, x)) \n",
    "\n",
    "# data.item_property_list.apply(lambda x: c(x)) \n",
    "\n",
    "len(s)"
   ]
  },
  {
   "cell_type": "code",
   "execution_count": 33,
   "metadata": {
    "hidden": true
   },
   "outputs": [
    {
     "name": "stdout",
     "output_type": "stream",
     "text": [
      "-----read all data-----\n"
     ]
    },
    {
     "name": "stderr",
     "output_type": "stream",
     "text": [
      "INFO:lda:n_documents: 10000\n",
      "INFO:lda:vocab_size: 10822\n",
      "INFO:lda:n_words: 139024\n",
      "INFO:lda:n_topics: 20\n",
      "INFO:lda:n_iter: 2000\n",
      "WARNING:lda:all zero column in document-term matrix found\n"
     ]
    },
    {
     "name": "stdout",
     "output_type": "stream",
     "text": [
      "Shape of Count Vector: (10000, 10822)\n"
     ]
    },
    {
     "name": "stderr",
     "output_type": "stream",
     "text": [
      "INFO:lda:<0> log likelihood: -1704505\n",
      "INFO:lda:<100> log likelihood: -755547\n",
      "INFO:lda:<200> log likelihood: -754043\n",
      "INFO:lda:<300> log likelihood: -753641\n",
      "INFO:lda:<400> log likelihood: -753729\n",
      "INFO:lda:<500> log likelihood: -751754\n",
      "INFO:lda:<600> log likelihood: -751738\n",
      "INFO:lda:<700> log likelihood: -751715\n",
      "INFO:lda:<800> log likelihood: -751701\n",
      "INFO:lda:<900> log likelihood: -751355\n",
      "INFO:lda:<1000> log likelihood: -751656\n",
      "INFO:lda:<1100> log likelihood: -751632\n",
      "INFO:lda:<1200> log likelihood: -751774\n",
      "INFO:lda:<1300> log likelihood: -751570\n",
      "INFO:lda:<1400> log likelihood: -751625\n",
      "INFO:lda:<1500> log likelihood: -751611\n",
      "INFO:lda:<1600> log likelihood: -751575\n",
      "INFO:lda:<1700> log likelihood: -751500\n",
      "INFO:lda:<1800> log likelihood: -751780\n",
      "INFO:lda:<1900> log likelihood: -751715\n",
      "INFO:lda:<1999> log likelihood: -751884\n"
     ]
    }
   ],
   "source": [
    "from sklearn.feature_extraction.text import CountVectorizer\n",
    "import lda\n",
    "\n",
    "def get_item_property_doc(item_category_list, item_property_list):\n",
    "    item_category_list = [category for category in item_category_list.split(\";\") if category != '-1']\n",
    "    item_property_list = [item_property for item_property in item_property_list.split(\";\") if item_property != '-1']\n",
    "    \n",
    "#     要不要算category0 ????\n",
    "    item_category_list = item_category_list[1:]\n",
    "    item_property_list = item_property_list[:10]\n",
    "    doc = list()\n",
    "    for item_category in item_category_list:\n",
    "        for item_property in item_property_list:\n",
    "            doc.append(item_category + '_' + item_property)\n",
    "    return ';'.join(doc)\n",
    "\n",
    "    \n",
    "def get_predict_property_doc(item_category_list, predict_category_property_list):\n",
    "\n",
    "    item_category_list = [category for category in item_category_list.split(\";\") if category != '-1']\n",
    "    doc = list()\n",
    "#     只取前五个预测类别\n",
    "    for predict_category_property in predict_category_property_list.split(\";\")[:5]:\n",
    "        if predict_category_property != '-1':\n",
    "            category = predict_category_property.split(\":\")[0]\n",
    "            property_list = predict_category_property.split(\":\")[1]\n",
    "            if property_list != -1:\n",
    "                for item_property in property_list.split(','):\n",
    "                    doc.append(category + '_' + item_property)\n",
    "    return ';'.join(doc)\n",
    "\n",
    "def category_property_iter():\n",
    "    for item_property_doc in all_data['item_property_doc']:\n",
    "        yield item_property_doc\n",
    "        \n",
    "    for predict_category_property_doc in all_data['predict_property_doc']:\n",
    "        yield predict_category_property_doc\n",
    "\n",
    "print('-----read all data-----')\n",
    "    \n",
    "k = 20\n",
    "\n",
    "def split(s):\n",
    "    return s.split(';')\n",
    "\n",
    "all_data['item_property_doc'] = all_data.apply(lambda row: get_item_property_doc(row['item_category_list'], row['item_property_list']), axis=1)\n",
    "all_data['predict_property_doc'] = all_data.apply(lambda row: get_predict_property_doc(row['item_category_list'], row['predict_category_property']), axis=1)\n",
    "\n",
    "\n",
    "cv = CountVectorizer(analyzer=split)\n",
    "cv.fit(category_property_iter())\n",
    "count_vector = cv.transform(all_data['item_property_doc'])\n",
    "\n",
    "# count_vector = cv.fit_transform(all_data['item_property_doc'])\n",
    "\n",
    "print('Shape of Count Vector: {}'.format(count_vector.shape))\n",
    "\n",
    "lda_model = lda.LDA(n_topics=k, n_iter=2000, random_state=1, refresh=100)\n",
    "lda_model.fit(count_vector)\n",
    "\n",
    "dump_pickle(lda_model, model_path + 'lda_model_test.pkl')"
   ]
  },
  {
   "cell_type": "code",
   "execution_count": null,
   "metadata": {
    "collapsed": true,
    "hidden": true
   },
   "outputs": [],
   "source": []
  }
 ],
 "metadata": {
  "kernelspec": {
   "display_name": "Python 3",
   "language": "python",
   "name": "python3"
  },
  "language_info": {
   "codemirror_mode": {
    "name": "ipython",
    "version": 3
   },
   "file_extension": ".py",
   "mimetype": "text/x-python",
   "name": "python",
   "nbconvert_exporter": "python",
   "pygments_lexer": "ipython3",
   "version": "3.6.4"
  }
 },
 "nbformat": 4,
 "nbformat_minor": 2
}
