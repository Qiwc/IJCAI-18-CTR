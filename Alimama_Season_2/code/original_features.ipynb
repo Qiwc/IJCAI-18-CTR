{
 "cells": [
  {
   "cell_type": "code",
   "execution_count": 1,
   "metadata": {},
   "outputs": [
    {
     "data": {
      "text/plain": [
       "27"
      ]
     },
     "execution_count": 1,
     "metadata": {},
     "output_type": "execute_result"
    }
   ],
   "source": [
    "features=[\n",
    "    \n",
    "        'item_id',\n",
    "        'item_brand_id',\n",
    "        'item_city_id',\n",
    "        'item_price_level',\n",
    "        'item_sales_level',\n",
    "        'item_collected_level',\n",
    "        'item_pv_level',\n",
    "        'user_id',\n",
    "        'user_gender_id',\n",
    "        'user_age_level',\n",
    "        'user_occupation_id',\n",
    "        'user_star_level',\n",
    "        'context_id',\n",
    "        'context_timestamp',\n",
    "        'context_page_id',\n",
    "        'shop_id',\n",
    "        'shop_review_num_level',\n",
    "        'shop_review_positive_rate',\n",
    "        'shop_star_level',\n",
    "        'shop_score_service',\n",
    "        'shop_score_delivery',\n",
    "        'shop_score_description',\n",
    "        'day',\n",
    "        'hour',\n",
    "        'minute',\n",
    "        'category2_label',\n",
    "        'category3_label',\n",
    "]\n",
    "\n",
    "len(features)"
   ]
  },
  {
   "cell_type": "code",
   "execution_count": 2,
   "metadata": {
    "collapsed": true
   },
   "outputs": [],
   "source": [
    "from utils import load_pickle, dump_pickle, raw_data_path, feature_data_path\n",
    "dump_pickle(features, 'original_features.pkl')"
   ]
  },
  {
   "cell_type": "code",
   "execution_count": null,
   "metadata": {
    "collapsed": true
   },
   "outputs": [],
   "source": []
  }
 ],
 "metadata": {
  "kernelspec": {
   "display_name": "Python 3",
   "language": "python",
   "name": "python3"
  },
  "language_info": {
   "codemirror_mode": {
    "name": "ipython",
    "version": 3
   },
   "file_extension": ".py",
   "mimetype": "text/x-python",
   "name": "python",
   "nbconvert_exporter": "python",
   "pygments_lexer": "ipython3",
   "version": "3.6.2"
  }
 },
 "nbformat": 4,
 "nbformat_minor": 2
}
