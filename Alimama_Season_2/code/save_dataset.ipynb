{
 "cells": [
  {
   "cell_type": "code",
   "execution_count": 1,
   "metadata": {},
   "outputs": [],
   "source": [
    "import os\n",
    "import zipfile\n",
    "import time\n",
    "import pickle\n",
    "import gc\n",
    "\n",
    "import pandas as pd\n",
    "import numpy as np\n",
    "from tqdm import tqdm\n",
    "\n",
    "from utils import load_pickle, dump_pickle, get_feature_value, feature_spearmanr, feature_target_spearmanr, addCrossFeature, calibration\n",
    "from utils import raw_data_path, feature_data_path, cache_pkl_path, analyse\n",
    "\n",
    "from sklearn.metrics import log_loss\n",
    "import lightgbm as lgb"
   ]
  },
  {
   "cell_type": "code",
   "execution_count": 2,
   "metadata": {},
   "outputs": [],
   "source": [
    "all_data_path = feature_data_path + 'all_data_all_features_new_0512.pkl'\n",
    "all_data = load_pickle(all_data_path)"
   ]
  },
  {
   "cell_type": "code",
   "execution_count": 3,
   "metadata": {},
   "outputs": [
    {
     "data": {
      "text/plain": [
       "(256, 4)"
      ]
     },
     "execution_count": 3,
     "metadata": {},
     "output_type": "execute_result"
    }
   ],
   "source": [
    "target = 'is_trade'\n",
    "\n",
    "features = load_pickle('all_features_day_4567.pkl')\n",
    "categorical_feature = load_pickle('categorical_feature.pkl')\n",
    "\n",
    "len(features), len(categorical_feature)"
   ]
  },
  {
   "cell_type": "code",
   "execution_count": 4,
   "metadata": {},
   "outputs": [
    {
     "data": {
      "text/plain": [
       "((142795, 573), (126942, 573))"
      ]
     },
     "execution_count": 4,
     "metadata": {},
     "output_type": "execute_result"
    }
   ],
   "source": [
    "data = all_data[all_data.is_trade >= 0]\n",
    "all_data = None\n",
    "gc.collect()\n",
    "\n",
    "train_data = data[(data.hour < 10) | (data.day < 7)]\n",
    "test_data_1 = data[(data.hour == 10) & (data.day == 7)]\n",
    "test_data_2 = data[(data.hour == 11) & (data.day == 7)]\n",
    "\n",
    "data = None\n",
    "gc.collect()\n",
    "\n",
    "lgb_train_data = lgb.Dataset(train_data[features], label=train_data[target], feature_name=features, categorical_feature=categorical_feature)\n",
    "lgb_test_data_1 = lgb_train_data.create_valid(test_data_1[features], label=test_data_1[target])\n",
    "lgb_test_data_2 = lgb_train_data.create_valid(test_data_2[features], label=test_data_2[target])\n",
    "\n",
    "train_data = None\n",
    "gc.collect()\n",
    "\n",
    "test_data_1.shape, test_data_2.shape"
   ]
  },
  {
   "cell_type": "code",
   "execution_count": 5,
   "metadata": {},
   "outputs": [],
   "source": [
    "lgb_train_data.save_binary(raw_data_path + 'lgb4567_until_10_train')\n",
    "lgb_test_data_1.save_binary(raw_data_path + 'lgb4567_hour_10_train')\n",
    "lgb_test_data_2.save_binary(raw_data_path + 'lgb4567_hour_11_train')"
   ]
  },
  {
   "cell_type": "code",
   "execution_count": null,
   "metadata": {},
   "outputs": [],
   "source": [
    "lgb_train_data = lgb.Dataset(raw_data_path + 'lgb4567_until_10_train')\n",
    "lgb_test_data_1 = lgb.Dataset(raw_data_path + 'lgb4567_hour_10_train')\n",
    "lgb_test_data_2 = lgb.Dataset(raw_data_path + 'lgb4567_hour_11_train')\n",
    "\n",
    "lgb_train_data.set_feature_name(features)\n",
    "lgb_train_data.set_categorical_feature(categorical_feature)"
   ]
  }
 ],
 "metadata": {
  "kernelspec": {
   "display_name": "Python 3",
   "language": "python",
   "name": "python3"
  },
  "language_info": {
   "codemirror_mode": {
    "name": "ipython",
    "version": 3
   },
   "file_extension": ".py",
   "mimetype": "text/x-python",
   "name": "python",
   "nbconvert_exporter": "python",
   "pygments_lexer": "ipython3",
   "version": "3.6.4"
  }
 },
 "nbformat": 4,
 "nbformat_minor": 2
}
